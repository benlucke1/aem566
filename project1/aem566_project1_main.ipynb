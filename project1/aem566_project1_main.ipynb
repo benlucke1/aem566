{
 "cells": [
  {
   "cell_type": "markdown",
   "id": "487cb61f",
   "metadata": {},
   "source": [
    "# Project 1: Linear Quadratic Regulator (LQR) Design\n",
    ">**Date Created**: 26 January 2024<br>\n",
    ">**Course**: AEM566 - Optimal Estimation<br>\n",
    ">**Author**: Benjamin Lucke<br>"
   ]
  },
  {
   "cell_type": "code",
   "execution_count": 1,
   "id": "8bafa594",
   "metadata": {},
   "outputs": [],
   "source": [
    "import control as ct\n",
    "import numpy as np\n",
    "import pandas as pd\n",
    "import scipy as sp\n",
    "import sympy as smp\n",
    "\n",
    "from numpy import sin, cos\n",
    "from matplotlib import pyplot as plt"
   ]
  },
  {
   "cell_type": "markdown",
   "id": "4f168041",
   "metadata": {},
   "source": [
    "# Problem Description\n",
    "___"
   ]
  },
  {
   "cell_type": "markdown",
   "id": "cdf57c87",
   "metadata": {},
   "source": [
    "### Dynamical System"
   ]
  },
  {
   "cell_type": "markdown",
   "id": "c8afe332",
   "metadata": {},
   "source": [
    "In many instances for spacecraft dynamics and control, one is interested in modeling the dynamics\n",
    "between multiple spacecraft, e.g., a **rendezvous and proximity operation (RPO)**. To that end,\n",
    "consider the following simplified model of two satellites operating in proximity, i.e. a simplified\n",
    "**three-body problem**, involving a **chaser spacecraft** and a **target spacecraft** (subscript $t$) on\n",
    "an elliptical orbit. One can represent this relative motion in the **Hill frame (HF)** for the target\n",
    "spacecraft as shown in the following figure."
   ]
  },
  {
   "attachments": {
    "hill_frame.PNG": {
     "image/png": "[encoded data removed]"
    }
   },
   "cell_type": "markdown",
   "id": "957576e1",
   "metadata": {},
   "source": [
    "![hill_frame.PNG](attachment:hill_frame.PNG)"
   ]
  },
  {
   "cell_type": "markdown",
   "id": "2d0be7ac",
   "metadata": {},
   "source": [
    "Thus, one can represent the target position relative to the celestial body in the target’s HF axes\n",
    "as $$\\vec{r}_t = \\begin{bmatrix} r_t \\\\ 0 \\\\ 0 \\end{bmatrix}$$"
   ]
  },
  {
   "cell_type": "markdown",
   "id": "62a077c8",
   "metadata": {},
   "source": [
    "and the relative position of the chaser in the target's HF axes as $$\\vec{\\rho} = \\begin{bmatrix} x \\\\ y \\\\ z\\end{bmatrix}$$"
   ]
  },
  {
   "cell_type": "markdown",
   "id": "a641d1f9",
   "metadata": {},
   "source": [
    "Then, noting $$\\vec{r}_c = \\vec{r}_t + \\vec{\\rho}$$ "
   ]
  },
  {
   "cell_type": "markdown",
   "id": "9db19699",
   "metadata": {},
   "source": [
    "## Problem 1\n",
    "\n",
    "Compute the eigenvalues of the state matrix for the continuous LTI system and comment on the stability of the system."
   ]
  },
  {
   "cell_type": "code",
   "execution_count": 2,
   "id": "5230331d",
   "metadata": {},
   "outputs": [],
   "source": [
    "mu = 3.986004418 * 10**14\n",
    "rt = 6783000\n",
    "x0 = np.array([1000, 1000, 1000, 0, 0, 0])\n",
    "nt = np.sqrt(mu / (rt**3))\n",
    "ti = 0\n",
    "tf = 16200\n",
    "n = 25000\n",
    "t_eval = np.linspace(ti, tf, n)"
   ]
  },
  {
   "cell_type": "code",
   "execution_count": 3,
   "id": "6a780483",
   "metadata": {},
   "outputs": [],
   "source": [
    "A_ct_numpy = np.array(\n",
    "    [\n",
    "        [0, 0, 0, 1, 0, 0],\n",
    "        [0, 0, 0, 0, 1, 0],\n",
    "        [0, 0, 0, 0, 0, 1],\n",
    "        [3 * nt**2, 0, 0, 0, 2 * nt, 0],\n",
    "        [0, 0, 0, -2 * nt**2, 0, 0],\n",
    "        [0, 0, -(nt**2), 0, 0, 0],\n",
    "    ]\n",
    ")\n",
    "B_ct_numpy = np.array(\n",
    "    [\n",
    "     [0, 0, 0],\n",
    "     [0, 0, 0], \n",
    "     [0, 0, 0], \n",
    "     [1, 0, 0], \n",
    "     [0, 1, 0], \n",
    "     [0, 0, 1]\n",
    "    ]\n",
    ")\n",
    "e = np.linalg.eig(A_ct_numpy)"
   ]
  },
  {
   "cell_type": "markdown",
   "id": "78b51849",
   "metadata": {},
   "source": [
    "**Problem Response**"
   ]
  },
  {
   "cell_type": "markdown",
   "id": "b5efe63e",
   "metadata": {},
   "source": [
    "> $r_t$ will never be less than zero, and $\\mu$ is a constant greter than zero, so $n_t$ will always be greater than zero. For $n_t \\geq 0.75$, the eigenvalues of the dynamics matrix are purely imaginary and thus the system is **marginally stable**, that is, the system will have bounded oscillations with no control input. "
   ]
  },
  {
   "cell_type": "markdown",
   "id": "16bfd732",
   "metadata": {},
   "source": [
    "## Problem 2\n",
    "Compute the controllability matrix for the continuous-time LTI system."
   ]
  },
  {
   "cell_type": "code",
   "execution_count": 4,
   "id": "c9571bb2",
   "metadata": {},
   "outputs": [
    {
     "name": "stdout",
     "output_type": "stream",
     "text": [
      "6\n"
     ]
    }
   ],
   "source": [
    "ctrb = ct.ctrb(A_ct_numpy, B_ct_numpy)\n",
    "print(np.linalg.matrix_rank(ctrb))"
   ]
  },
  {
   "cell_type": "markdown",
   "id": "55eedc89",
   "metadata": {},
   "source": [
    "**Problem Response**"
   ]
  },
  {
   "cell_type": "markdown",
   "id": "81e3b3a4",
   "metadata": {},
   "source": [
    "> System is controllable since the controllability matrix is full rank."
   ]
  },
  {
   "cell_type": "markdown",
   "id": "c2db3e10",
   "metadata": {},
   "source": [
    "## Problem 3"
   ]
  },
  {
   "cell_type": "markdown",
   "id": "ca6c5da1",
   "metadata": {},
   "source": [
    "Design a finite-horizon LQR for the continuous time system with $t_f = 16200 s$ using ODE solvers."
   ]
  },
  {
   "cell_type": "code",
   "execution_count": 1133,
   "id": "8df95e9c",
   "metadata": {},
   "outputs": [],
   "source": [
    "def Pdot_continuous(t, P, A, B, Q, R):\n",
    "    P = P.reshape(6,6)\n",
    "    pdot = -P @ A - A.T @ P + P @ B @ np.linalg.inv(R) @ B.T @ P - Q\n",
    "    return pdot.flatten()\n",
    "\n",
    "def xdot_continuous(t, x, Ps, A, B, R, t_interp):\n",
    "    interpolator = sp.interpolate.interp1d(t_interp, Ps.reshape(36,-1))\n",
    "    P = interpolator(t).reshape(6,6)\n",
    "    K = np.linalg.inv(R) @ B.T @ P\n",
    "    xdot = (A - B @ K) @ x\n",
    "    return xdot\n",
    "\n",
    "def calculate_u_continuous(t_eval, A, B, R, Ps, x0):\n",
    "    us = np.zeros((3,max(t_eval.shape)))\n",
    "    xs = np.zeros((6,max(t_eval.shape)))\n",
    "    interpolator = sp.interpolate.interp1d(t_interp, Ps.reshape(36,-1))\n",
    "    for k, t in enumerate(t_eval):\n",
    "        if k == 0:\n",
    "            x = x0\n",
    "            xs[:,k] = x\n",
    "        else: \n",
    "            x = x_c\n",
    "        P = interpolator(t).reshape(6,6)\n",
    "        K = np.linalg.inv(R) @ B.T @ P\n",
    "        u = -K @ x\n",
    "        xdot = A @ x + B @ u\n",
    "        x = xdot\n",
    "        us[:,k] = u\n",
    "        xs[:,k] = x\n",
    "        x_c = x\n",
    "    return us, xs\n",
    "\n",
    "def calc_u(Ps, A, R, B, t_solve):\n",
    "    u_s = np.zeros((3, t_solve.shape[0]))\n",
    "    interp_P = sp.interpolate.interp1d(t_solve, Ps.reshape(36, -1))\n",
    "    for k, t in enumerate(t_solve):\n",
    "        if k == 0:\n",
    "            x = np.array([1000, 1000, 1000, 0, 0 ,0])\n",
    "        else:\n",
    "            x = x_c\n",
    "        P_t = interp_P(t).reshape((6, 6))\n",
    "        K_t = np.linalg.inv(R) @ B.T @ P_t\n",
    "        u = -K_t @ x\n",
    "        x = A @ x + B @ u\n",
    "        x_c = x \n",
    "        u_s[:, k] = u\n",
    "    return u_s"
   ]
  },
  {
   "cell_type": "code",
   "execution_count": 1134,
   "id": "66d2bbc4",
   "metadata": {},
   "outputs": [
    {
     "ename": "LinAlgError",
     "evalue": "Last 2 dimensions of the array must be square",
     "output_type": "error",
     "traceback": [
      "\u001b[1;31m---------------------------------------------------------------------------\u001b[0m",
      "\u001b[1;31mLinAlgError\u001b[0m                               Traceback (most recent call last)",
      "Input \u001b[1;32mIn [1134]\u001b[0m, in \u001b[0;36m<cell line: 8>\u001b[1;34m()\u001b[0m\n\u001b[0;32m      1\u001b[0m \u001b[38;5;66;03m# Case 1 \u001b[39;00m\n\u001b[0;32m      2\u001b[0m \u001b[38;5;66;03m# Q = np.eye(6)\u001b[39;00m\n\u001b[0;32m      3\u001b[0m \u001b[38;5;66;03m# R = np.eye(3)\u001b[39;00m\n\u001b[1;32m   (...)\u001b[0m\n\u001b[0;32m      6\u001b[0m \u001b[38;5;66;03m# t_interp =np.flip(ARE_case1_continuous.t)\u001b[39;00m\n\u001b[0;32m      7\u001b[0m \u001b[38;5;66;03m# closedLoop_case1_continuous = sp.integrate.solve_ivp(fun=xdot_continuous, t_span=[0, 16200],t_eval=np.linspace(0, 16200, 5000), y0=x0, args = (P_case1_continuous, A_ct_numpy, B_ct_numpy,R,t_interp))\u001b[39;00m\n\u001b[1;32m----> 8\u001b[0m u_case1_continuous, xc1 \u001b[38;5;241m=\u001b[39m \u001b[43mcalc_u\u001b[49m\u001b[43m(\u001b[49m\u001b[43mP_case1_continuous\u001b[49m\u001b[43m,\u001b[49m\u001b[43m  \u001b[49m\u001b[43mA_ct_numpy\u001b[49m\u001b[43m,\u001b[49m\u001b[43m \u001b[49m\u001b[43mB_ct_numpy\u001b[49m\u001b[43m,\u001b[49m\u001b[43m \u001b[49m\u001b[43mR\u001b[49m\u001b[43m,\u001b[49m\u001b[43m \u001b[49m\u001b[43mt_interp\u001b[49m\u001b[43m)\u001b[49m\n",
      "Input \u001b[1;32mIn [1133]\u001b[0m, in \u001b[0;36mcalc_u\u001b[1;34m(Ps, A, R, B, t_solve)\u001b[0m\n\u001b[0;32m     40\u001b[0m     x \u001b[38;5;241m=\u001b[39m x_c\n\u001b[0;32m     41\u001b[0m P_t \u001b[38;5;241m=\u001b[39m interp_P(t)\u001b[38;5;241m.\u001b[39mreshape((\u001b[38;5;241m6\u001b[39m, \u001b[38;5;241m6\u001b[39m))\n\u001b[1;32m---> 42\u001b[0m K_t \u001b[38;5;241m=\u001b[39m \u001b[43mnp\u001b[49m\u001b[38;5;241;43m.\u001b[39;49m\u001b[43mlinalg\u001b[49m\u001b[38;5;241;43m.\u001b[39;49m\u001b[43minv\u001b[49m\u001b[43m(\u001b[49m\u001b[43mR\u001b[49m\u001b[43m)\u001b[49m \u001b[38;5;241m@\u001b[39m B\u001b[38;5;241m.\u001b[39mT \u001b[38;5;241m@\u001b[39m P_t\n\u001b[0;32m     43\u001b[0m u \u001b[38;5;241m=\u001b[39m \u001b[38;5;241m-\u001b[39mK_t \u001b[38;5;241m@\u001b[39m x\n\u001b[0;32m     44\u001b[0m x \u001b[38;5;241m=\u001b[39m A \u001b[38;5;241m@\u001b[39m x \u001b[38;5;241m+\u001b[39m B \u001b[38;5;241m@\u001b[39m u\n",
      "File \u001b[1;32m<__array_function__ internals>:200\u001b[0m, in \u001b[0;36minv\u001b[1;34m(*args, **kwargs)\u001b[0m\n",
      "File \u001b[1;32m~\\anaconda3\\envs\\mlenv\\lib\\site-packages\\numpy\\linalg\\linalg.py:533\u001b[0m, in \u001b[0;36minv\u001b[1;34m(a)\u001b[0m\n\u001b[0;32m    531\u001b[0m a, wrap \u001b[38;5;241m=\u001b[39m _makearray(a)\n\u001b[0;32m    532\u001b[0m _assert_stacked_2d(a)\n\u001b[1;32m--> 533\u001b[0m \u001b[43m_assert_stacked_square\u001b[49m\u001b[43m(\u001b[49m\u001b[43ma\u001b[49m\u001b[43m)\u001b[49m\n\u001b[0;32m    534\u001b[0m t, result_t \u001b[38;5;241m=\u001b[39m _commonType(a)\n\u001b[0;32m    536\u001b[0m signature \u001b[38;5;241m=\u001b[39m \u001b[38;5;124m'\u001b[39m\u001b[38;5;124mD->D\u001b[39m\u001b[38;5;124m'\u001b[39m \u001b[38;5;28;01mif\u001b[39;00m isComplexType(t) \u001b[38;5;28;01melse\u001b[39;00m \u001b[38;5;124m'\u001b[39m\u001b[38;5;124md->d\u001b[39m\u001b[38;5;124m'\u001b[39m\n",
      "File \u001b[1;32m~\\anaconda3\\envs\\mlenv\\lib\\site-packages\\numpy\\linalg\\linalg.py:190\u001b[0m, in \u001b[0;36m_assert_stacked_square\u001b[1;34m(*arrays)\u001b[0m\n\u001b[0;32m    188\u001b[0m m, n \u001b[38;5;241m=\u001b[39m a\u001b[38;5;241m.\u001b[39mshape[\u001b[38;5;241m-\u001b[39m\u001b[38;5;241m2\u001b[39m:]\n\u001b[0;32m    189\u001b[0m \u001b[38;5;28;01mif\u001b[39;00m m \u001b[38;5;241m!=\u001b[39m n:\n\u001b[1;32m--> 190\u001b[0m     \u001b[38;5;28;01mraise\u001b[39;00m LinAlgError(\u001b[38;5;124m'\u001b[39m\u001b[38;5;124mLast 2 dimensions of the array must be square\u001b[39m\u001b[38;5;124m'\u001b[39m)\n",
      "\u001b[1;31mLinAlgError\u001b[0m: Last 2 dimensions of the array must be square"
     ]
    }
   ],
   "source": [
    "# Case 1 \n",
    "# Q = np.eye(6)\n",
    "# R = np.eye(3)\n",
    "# ARE_case1_continuous = sp.integrate.solve_ivp(fun=Pdot_continuous, t_span=[16200, 0],t_eval=np.linspace(16200, 0, 5000), y0=P0.flatten(), args = (A_ct_numpy, B_ct_numpy, Q, R))\n",
    "# P_case1_continuous = np.flip(ARE_case1_continuous.y.reshape((6,6,-1)))\n",
    "# t_interp =np.flip(ARE_case1_continuous.t)\n",
    "# closedLoop_case1_continuous = sp.integrate.solve_ivp(fun=xdot_continuous, t_span=[0, 16200],t_eval=np.linspace(0, 16200, 5000), y0=x0, args = (P_case1_continuous, A_ct_numpy, B_ct_numpy,R,t_interp))\n",
    "u_case1_continuous, xc1 = calc_u(P_case1_continuous,  A_ct_numpy, B_ct_numpy, R, t_interp)"
   ]
  },
  {
   "cell_type": "code",
   "execution_count": 1118,
   "id": "398221b1",
   "metadata": {},
   "outputs": [
    {
     "ename": "UnboundLocalError",
     "evalue": "local variable 'x_c' referenced before assignment",
     "output_type": "error",
     "traceback": [
      "\u001b[1;31m---------------------------------------------------------------------------\u001b[0m",
      "\u001b[1;31mUnboundLocalError\u001b[0m                         Traceback (most recent call last)",
      "Input \u001b[1;32mIn [1118]\u001b[0m, in \u001b[0;36m<cell line: 8>\u001b[1;34m()\u001b[0m\n\u001b[0;32m      1\u001b[0m \u001b[38;5;66;03m# Case 2\u001b[39;00m\n\u001b[0;32m      2\u001b[0m \u001b[38;5;66;03m# Q = np.eye(6)\u001b[39;00m\n\u001b[0;32m      3\u001b[0m \u001b[38;5;66;03m# R = 100*np.eye(3)\u001b[39;00m\n\u001b[1;32m   (...)\u001b[0m\n\u001b[0;32m      6\u001b[0m \u001b[38;5;66;03m# t_interp =np.flip(ARE_case2_continuous.t)\u001b[39;00m\n\u001b[0;32m      7\u001b[0m \u001b[38;5;66;03m# closedLoop_case2_continuous = sp.integrate.solve_ivp(fun=xdot_continuous, t_span=[0, 16200],t_eval=np.linspace(0, 16200, 5000), y0=x0, args = (P_case2_continuous, A_ct_numpy, B_ct_numpy,R,t_interp))\u001b[39;00m\n\u001b[1;32m----> 8\u001b[0m u_case2_continuous, x \u001b[38;5;241m=\u001b[39m \u001b[43mcalculate_u_continuous\u001b[49m\u001b[43m(\u001b[49m\u001b[43mt_interp\u001b[49m\u001b[43m,\u001b[49m\u001b[43m \u001b[49m\u001b[43mA_ct_numpy\u001b[49m\u001b[43m,\u001b[49m\u001b[43m \u001b[49m\u001b[43mB_ct_numpy\u001b[49m\u001b[43m,\u001b[49m\u001b[43m \u001b[49m\u001b[43mR\u001b[49m\u001b[43m,\u001b[49m\u001b[43m \u001b[49m\u001b[43mP_case2_continuous\u001b[49m\u001b[43m,\u001b[49m\u001b[43m \u001b[49m\u001b[43mx0\u001b[49m\u001b[43m)\u001b[49m\n",
      "Input \u001b[1;32mIn [1116]\u001b[0m, in \u001b[0;36mcalculate_u_continuous\u001b[1;34m(t_eval, A, B, R, Ps, x0)\u001b[0m\n\u001b[0;32m     20\u001b[0m     xs[:,k] \u001b[38;5;241m=\u001b[39m x\n\u001b[0;32m     21\u001b[0m     \u001b[38;5;28;01mcontinue\u001b[39;00m\n\u001b[1;32m---> 22\u001b[0m \u001b[38;5;28;01melse\u001b[39;00m: x \u001b[38;5;241m=\u001b[39m \u001b[43mx_c\u001b[49m\n\u001b[0;32m     23\u001b[0m P \u001b[38;5;241m=\u001b[39m interpolator(t)\u001b[38;5;241m.\u001b[39mreshape(\u001b[38;5;241m6\u001b[39m,\u001b[38;5;241m6\u001b[39m)\n\u001b[0;32m     24\u001b[0m K \u001b[38;5;241m=\u001b[39m np\u001b[38;5;241m.\u001b[39mlinalg\u001b[38;5;241m.\u001b[39minv(R) \u001b[38;5;241m@\u001b[39m B\u001b[38;5;241m.\u001b[39mT \u001b[38;5;241m@\u001b[39m P\n",
      "\u001b[1;31mUnboundLocalError\u001b[0m: local variable 'x_c' referenced before assignment"
     ]
    }
   ],
   "source": [
    "# Case 2\n",
    "# Q = np.eye(6)\n",
    "# R = 100*np.eye(3)\n",
    "# ARE_case2_continuous = sp.integrate.solve_ivp(fun=Pdot_continuous, t_span=[16200, 0],t_eval=np.linspace(16200, 0, 5000), y0=P0.flatten(), args = (A_ct_numpy, B_ct_numpy, Q, R))\n",
    "# P_case2_continuous = np.flip(ARE_case2_continuous.y.reshape((6,6,-1)))\n",
    "# t_interp =np.flip(ARE_case2_continuous.t)\n",
    "# closedLoop_case2_continuous = sp.integrate.solve_ivp(fun=xdot_continuous, t_span=[0, 16200],t_eval=np.linspace(0, 16200, 5000), y0=x0, args = (P_case2_continuous, A_ct_numpy, B_ct_numpy,R,t_interp))\n",
    "u_case2_continuous, x = calculate_u_continuous(t_interp, A_ct_numpy, B_ct_numpy, R, P_case2_continuous, x0)"
   ]
  },
  {
   "cell_type": "code",
   "execution_count": 1115,
   "id": "0b75b2cd",
   "metadata": {},
   "outputs": [
    {
     "data": {
      "text/plain": [
       "[<matplotlib.lines.Line2D at 0x1a435a9d450>]"
      ]
     },
     "execution_count": 1115,
     "metadata": {},
     "output_type": "execute_result"
    },
    {
     "data": {
      "image/png": "[encoded data removed]",
      "text/plain": [
       "<Figure size 640x480 with 1 Axes>"
      ]
     },
     "metadata": {},
     "output_type": "display_data"
    }
   ],
   "source": [
    "plt.plot(u_case2_continuous[0,:])"
   ]
  },
  {
   "cell_type": "code",
   "execution_count": 1088,
   "id": "8ca7512d",
   "metadata": {},
   "outputs": [],
   "source": [
    "# Case 3\n",
    "Q = np.eye(6)\n",
    "R = 10000*np.eye(3)\n",
    "ARE_case3_continuous = sp.integrate.solve_ivp(fun=Pdot_continuous, t_span=[16200, 0],t_eval=np.linspace(16200, 0, 5000), y0=P0.flatten(), args = (A_ct_numpy, B_ct_numpy, Q, R))\n",
    "P_case3_continuous = np.flip(ARE_case3_continuous.y.reshape((6,6,-1)))\n",
    "t_interp =np.flip(ARE_case3_continuous.t)\n",
    "closedLoop_case3_continuous = sp.integrate.solve_ivp(fun=xdot_continuous, t_span=[0, 16200],t_eval=np.linspace(0, 16200, 5000), y0=x0, args = (P_case3_continuous, A_ct_numpy, B_ct_numpy,R,t_interp))\n",
    "u_case3_continuous = calculate_u_continuous(t_interp, A_ct_numpy, B_ct_numpy, R, P_case3_continuous, x0)"
   ]
  },
  {
   "cell_type": "code",
   "execution_count": 1012,
   "id": "877a6134",
   "metadata": {},
   "outputs": [],
   "source": [
    "c1_cld = sp.integrate.solve_ivp(fun=xdot_continuous, t_span=[0, 16200],t_eval=np.linspace(0, 16200, 5000), y0=x0, args = (Ps, A_ct_numpy, B_ct_numpy,R,t_interp))"
   ]
  },
  {
   "cell_type": "code",
   "execution_count": 879,
   "id": "fcf1d91b",
   "metadata": {},
   "outputs": [],
   "source": [
    "# Defone functions to be passed into ODE solvers \n",
    "\n",
    "def dPdt(t, P, A, B, Q, R):\n",
    "    P = P.reshape((6, 6))\n",
    "    dpdt = (\n",
    "        -np.dot(P, A)\n",
    "        - np.dot(A.T, P)\n",
    "        + np.dot(P, B).dot(np.linalg.inv(R)).dot(B.T).dot(P)\n",
    "        - Q\n",
    "    ).flatten()\n",
    "    return dpdt\n",
    "\n",
    "\n",
    "def dxdt(t, x, A, B, R, P, ts):\n",
    "    interp_P = sp.interpolate.interp1d(ts, P.reshape(6,6,-1))\n",
    "    P_t = interp_P(t).reshape((6, 6))\n",
    "    K_t = np.linalg.inv(R) @ B.T @ P_t \n",
    "    u = -K_t @ x \n",
    "    xdot = (A - B @ K_t) @ x\n",
    "    return xdot\n",
    "\n",
    "\n",
    "def calc_u(Ps, A, R, B, t_solve):\n",
    "    u_s = np.zeros((3, t_solve.shape[0]))\n",
    "    interp_P = sp.interpolate.interp1d(t_solve, Ps.reshape(36, -1))\n",
    "    for k, t in enumerate(t_solve):\n",
    "        if k == 0:\n",
    "            x = np.array([1000, 1000, 1000, 0, 0 ,0])\n",
    "        else:\n",
    "            x = x_c\n",
    "        P_t = interp_P(t).reshape((6, 6))\n",
    "        K_t = np.linalg.inv(R) @ B.T @ P_t\n",
    "        u = -K_t @ x\n",
    "        x = A @ x + B @ u\n",
    "        x_c = x \n",
    "        u_s[:, k] = u\n",
    "    return u_s"
   ]
  },
  {
   "cell_type": "markdown",
   "id": "cda85251",
   "metadata": {},
   "source": [
    "### Problem 4"
   ]
  },
  {
   "cell_type": "markdown",
   "id": "572f6599",
   "metadata": {},
   "source": [
    "Design a finite-horizon LQR for the continuous time system with $t_f = 16200 s$ using a continuous-time algebraic Riccati equation solver."
   ]
  },
  {
   "cell_type": "code",
   "execution_count": 5,
   "id": "bf4da453",
   "metadata": {},
   "outputs": [],
   "source": [
    "A = np.array([[0,0,0,1,0,0],\n",
    "             [0,0,0,0,1,0],\n",
    "             [0,0,0,0,0,1],\n",
    "             [3*nt**2, 0, 0, 0, 2*nt, 0],\n",
    "             [0,0,0,-2*nt,0,0],\n",
    "             [0,0,-nt**2,0,0,0]])\n",
    "B = np.array([[0,0,0],\n",
    "             [0,0,0],\n",
    "             [0,0,0],\n",
    "             [1,0,0],\n",
    "             [0,1,0],\n",
    "             [0,0,1]])"
   ]
  },
  {
   "cell_type": "code",
   "execution_count": 6,
   "id": "fbe5aed8",
   "metadata": {},
   "outputs": [],
   "source": [
    "def dxdt_care(t, x, A, B, P, R):\n",
    "    K_t = np.linalg.inv(R) @ B.T @ P\n",
    "    xdot = (A - B @ K_t) @ x\n",
    "    return xdot\n",
    "\n",
    "def calc_u_care(t_eval, A, B, R, P):\n",
    "    u_s = np.zeros((3, t_eval.shape[0]))  # array to hold output commands, u\n",
    "    K_t = np.linalg.inv(R) @ B.T @ P # Optimal gain calculation\n",
    "    \n",
    "    # Compute dynamics and optimal control input, u at each value of t in the series\n",
    "    for k, t in enumerate(t_eval):\n",
    "        if k == 0:\n",
    "            x = x0\n",
    "        else:\n",
    "            x = x_c\n",
    "        u = - K_t @ x\n",
    "        u_s[:,k] = u\n",
    "        xdot = A @ x + B @ u\n",
    "        x = x + xdot\n",
    "        x_c = x\n",
    "    return u_s"
   ]
  },
  {
   "cell_type": "code",
   "execution_count": 7,
   "id": "ac1c9af1",
   "metadata": {},
   "outputs": [],
   "source": [
    "# Case 1 \n",
    "Q = np.eye(6)\n",
    "R = np.eye(3)\n",
    "P_case1_care = sp.linalg.solve_continuous_are(A_ct_numpy, B_ct_numpy, Q, R)\n",
    "sol_case1_care = sp.integrate.solve_ivp(fun=dxdt_care, t_span=[ti, tf], t_eval=t_eval, y0=x0, args=(A, B, P_case1_care, R))\n",
    "u_case1_care = calc_u_care(t_eval, A_ct_numpy, B_ct_numpy, R, P_case1_care) \n",
    "\n",
    "# Case 2\n",
    "Q = np.eye(6)\n",
    "R = 100*np.eye(3)\n",
    "P_care_case2 = sp.linalg.solve_continuous_are(A_ct_numpy, B_ct_numpy, Q, R)\n",
    "sol_case2_care = sp.integrate.solve_ivp(fun=dxdt_care, t_span=[ti, tf],t_eval=t_eval, y0=x0, args=(A, B, P_care_case2, R))\n",
    "case2_care = calc_u_care(t_eval, A_ct_numpy, B_ct_numpy, R, P_care_case2) \n",
    "\n",
    "# Case 3\n",
    "Q = np.eye(6)\n",
    "R = 10000*np.eye(3)\n",
    "P_care_case3 = sp.linalg.solve_continuous_are(A_ct_numpy, B_ct_numpy, Q, R)\n",
    "sol_case3_care = sp.integrate.solve_ivp(fun=dxdt_care, t_span=[ti, tf], t_eval=t_eval, y0=x0, args=(A, B_ct_numpy, P_care_case3, R))\n",
    "u_case3_care = calc_u_care(t_eval, A_ct_numpy, B, R, P_care_case3) \n"
   ]
  },
  {
   "cell_type": "code",
   "execution_count": 502,
   "id": "caf5bb4b",
   "metadata": {},
   "outputs": [],
   "source": [
    "def plot_u(u_s, title='Case 1'):\n",
    "    fig, (ax1, ax2, ax3) = plt.subplots(nrows=3, ncols=1, figsize=(10,10),sharex=True,sharey=True)\n",
    "    ax1.plot(t_eval, u_s[0,:])\n",
    "    ax1.set_xlim([0, 40])\n",
    "    ax1.set_title('$u_x$')\n",
    "    ax2.plot(t_eval, u_s[1,:])\n",
    "    ax2.set_xlim([0, 40])\n",
    "    ax2.set_title('$u_y$')\n",
    "    ax3.plot(t_eval, u_s[2,:])\n",
    "    ax3.set_xlim([0, 40])\n",
    "    ax3.set_title('$u_z$')\n",
    "    fig.supxlabel('Time (sec)')\n",
    "    fig.supylabel('Commanded Acceleration ($m/s^2$)')\n",
    "    fig.suptitle(title,fontsize='x-large')\n",
    "    "
   ]
  },
  {
   "cell_type": "code",
   "execution_count": 506,
   "id": "9937a8de",
   "metadata": {},
   "outputs": [],
   "source": [
    "def plot_xy(sols, title='Case 1'):\n",
    "    fig, ax  = plt.subplots()\n",
    "    ax.plot(sols.y[0,:],sols.y[1,:])\n",
    "    ax.set_title(title, fontsize='x-large')\n",
    "    ax.set_xlabel('x (meters)')\n",
    "    ax.set_ylabel('y (meters)')    "
   ]
  },
  {
   "cell_type": "code",
   "execution_count": 508,
   "id": "c312c027",
   "metadata": {},
   "outputs": [],
   "source": [
    "def plot_z(t_eval, sols, title='Case 1'):\n",
    "    fig, ax  = plt.subplots()\n",
    "    ax.plot(t_eval, sols.y[2,:])\n",
    "    ax.set_title(title, fontsize='x-large')\n",
    "    ax.set_xlabel('Time (seconds)')\n",
    "    ax.set_ylabel('z (meters)')   "
   ]
  },
  {
   "cell_type": "markdown",
   "id": "12e74cc7",
   "metadata": {},
   "source": [
    "### Problem 5"
   ]
  },
  {
   "cell_type": "markdown",
   "id": "f6a57a3e",
   "metadata": {},
   "source": [
    "Design a finite-horizon LQR for the discrete-time LTI system approximation with $\\Delta t = 1s$ and $N = 1500$."
   ]
  },
  {
   "cell_type": "code",
   "execution_count": 8,
   "id": "bdc0e3d4",
   "metadata": {},
   "outputs": [],
   "source": [
    "# Define dynamics and constants\n",
    "P0 = np.zeros((6,6))\n",
    "N = 1500\n",
    "dt = 1\n",
    "F = lambda nt, dt: np.array([[4-3*cos(nt*dt), 0, 0, nt**(-1)*sin(nt*dt), 2*nt**(-1)*(1-cos(nt*dt)), 0],\n",
    "                            [6*(sin(nt*dt)-nt*dt), 1, 0, -2*nt**(-1)*(1-cos(nt*dt)), nt**(-1)*(4*sin(nt*dt)-3*nt*dt), 0],\n",
    "                            [0, 0, cos(nt*dt), 0,0, nt**(-1)*sin(nt*dt)],\n",
    "                            [3*nt*sin(nt*dt), 0, 0, cos(nt*dt), 2*sin(nt*dt), 0],\n",
    "                            [-6*nt*(1-cos(nt*dt)), 0, 0, -2*sin(nt*dt), 4*cos(nt*dt) - 3, 0],\n",
    "                            [0, 0, -nt*sin(dt*dt), 0, 0, cos(nt*dt)]])\n",
    "G = lambda nt, dt: F(nt, dt)[:,3:]"
   ]
  },
  {
   "cell_type": "code",
   "execution_count": 11,
   "id": "bdd41e15",
   "metadata": {},
   "outputs": [],
   "source": [
    "# Define functions to solve discrete-time Riccati Equation and Closed Loop Dynamics\n",
    "\n",
    "def recursive_solve_are(N, dt, nt, F, G, Q, R, P0):\n",
    "    F_k = F(nt, dt)\n",
    "    G_k = G(nt, dt)\n",
    "    Ps = np.zeros((6,6,N))\n",
    "    \n",
    "    for k in range(N):\n",
    "        if k == 0:\n",
    "            P = P0\n",
    "            Ps[:,:,k] = P\n",
    "            continue\n",
    "        else:\n",
    "            Pkm1 = F_k.T @ P @ F_k + Q - (F_k.T @ P @ G_k) @ np.linalg.inv(G_k.T @ P @ G_k + R) @ (G_k.T @ P @ F_k)\n",
    "            Ps[:,:, k] = Pkm1\n",
    "            P = Pkm1\n",
    "    return Ps\n",
    "\n",
    "def solve_recursive_cl(N, dt, nt, F, G, Ps, Q, R, x0):\n",
    "    F_k = F(nt, dt)\n",
    "    G_k = G(nt, dt)\n",
    "    xd = np.zeros((6,N))\n",
    "    u_s = np.zeros((3,N))\n",
    "    for k in range(N):\n",
    "        if k == 0:\n",
    "            x = x0\n",
    "            xkp1 = x0\n",
    "            K = np.linalg.inv((G_k.T @ Ps[:,:, 0] @ G_k + R)) @ (G_k.T @ Ps[:,:, 0] @ F_k)\n",
    "            u = -K @ x\n",
    "        elif k < N-1:\n",
    "            K = np.linalg.inv((G_k.T @ Ps[:,:, k + 1] @ G_k + R)) @ (G_k.T @ Ps[:,:, k + 1] @ F_k)\n",
    "            u = -K @ x\n",
    "            xkp1 = (F_k - G_k @ K) @ x\n",
    "        else:\n",
    "            K = np.linalg.inv((G_k.T @ Ps[:,:, k] @ G_k + R)) @ (G_k.T @ Ps[:,:, k] @ F_k)\n",
    "            u = -K @ x\n",
    "            xkp1 = (F_k - G_k @ K) @ x\n",
    "        xd[:, k] = xkp1\n",
    "        u_s[:,k] = u\n",
    "        x = xkp1\n",
    "    return xd, u_s"
   ]
  },
  {
   "cell_type": "code",
   "execution_count": 12,
   "id": "d68f31bd",
   "metadata": {},
   "outputs": [],
   "source": [
    "# Case 1\n",
    "Q = np.eye(6)\n",
    "R = np.eye(3)\n",
    "\n",
    "P_case1_discrete = recursive_solve_are(N, dt, nt, F, G, Q, R, P0)\n",
    "sol_case1_discrete, u_case1_discrete = solve_recursive_cl(N, dt, nt, F, G, P_case1_discrete, Q, R, x0)\n",
    "\n",
    "# Case 2\n",
    "Q = np.eye(6)\n",
    "R = 100*np.eye(3)\n",
    "\n",
    "P_case2_discrete = recursive_solve_are(N, dt, nt, F, G, Q, R, P0)\n",
    "sol_case2_discrete, u_case2_discrete = solve_recursive_cl(N, dt, nt, F, G, P_case2_discrete, Q, R, x0)\n",
    "\n",
    "# Case 3\n",
    "Q = np.eye(6)\n",
    "R = 10000*np.eye(3)\n",
    "\n",
    "P_case3_discrete = recursive_solve_are(N, dt, nt, F, G, Q, R, P0)\n",
    "sol_case3_discrete, u_case3_discrete = solve_recursive_cl(N, dt, nt, F, G, P_case3_discrete, Q, R, x0)"
   ]
  },
  {
   "cell_type": "markdown",
   "id": "beb8562f",
   "metadata": {},
   "source": [
    "### Problem 6"
   ]
  },
  {
   "cell_type": "code",
   "execution_count": 13,
   "id": "cafa495b",
   "metadata": {},
   "outputs": [],
   "source": [
    "def solve_recursive_cl_constant_P(N, dt, nt, F, G, P, Q, R, x0):\n",
    "    F_k = F(nt, dt)\n",
    "    G_k = G(nt, dt)\n",
    "    K_k = np.linalg.inv(G_k.T @ P @ G_k + R) @ G_k.T @ P @ F_k\n",
    "    \n",
    "    xd = np.zeros((6,N))\n",
    "    u_s = np.zeros((3,N))\n",
    "    \n",
    "    for k in range(N):\n",
    "        if k == 0:\n",
    "            x = x0\n",
    "            xd[:, k] = x\n",
    "            u_s[:,k] = -K_k @ x\n",
    "        else:\n",
    "            xkp1 = (F_k - G_k @ K_k) @ x\n",
    "            u = -K_k @ x\n",
    "            xd[:, k] = xkp1\n",
    "            u_s[:, k] = u\n",
    "            x = xkp1\n",
    "    return xd, u_s\n",
    "            "
   ]
  },
  {
   "cell_type": "code",
   "execution_count": 14,
   "id": "c35fa167",
   "metadata": {},
   "outputs": [],
   "source": [
    "# Case 1\n",
    "Q = np.eye(6)\n",
    "R = np.eye(3)\n",
    "P_dare_case1 = sp.linalg.solve_discrete_are(F(nt,dt), G(nt,dt), Q, R)\n",
    "sol_dare_case1, u_dare_case1 = solve_recursive_cl_constant_P(N, dt, nt, F, G, P_dare_case1, Q, R, x0)\n",
    "\n",
    "# Case 2\n",
    "Q = np.eye(6)\n",
    "R = 100*np.eye(3)\n",
    "P_dare_case2 = sp.linalg.solve_discrete_are(F(nt,dt), G(nt,dt), Q, R)\n",
    "sol_dare_case2, u_dare_case2 = solve_recursive_cl_constant_P(N, dt, nt, F, G, P_dare_case2, Q, R, x0)\n",
    "\n",
    "# Case 3\n",
    "Q = np.eye(6)\n",
    "R = 10000*np.eye(3)\n",
    "P_dare_case3 = sp.linalg.solve_discrete_are(F(nt,dt), G(nt,dt), Q, R)\n",
    "sol_dare_case3, u_dare_case3 = solve_recursive_cl_constant_P(N, dt, nt, F, G, P_dare_case3, Q, R, x0)"
   ]
  }
 ],
 "metadata": {
  "kernelspec": {
   "display_name": "Python 3 (ipykernel)",
   "language": "python",
   "name": "python3"
  },
  "language_info": {
   "codemirror_mode": {
    "name": "ipython",
    "version": 3
   },
   "file_extension": ".py",
   "mimetype": "text/x-python",
   "name": "python",
   "nbconvert_exporter": "python",
   "pygments_lexer": "ipython3",
   "version": "3.10.4"
  }
 },
 "nbformat": 4,
 "nbformat_minor": 5
}
