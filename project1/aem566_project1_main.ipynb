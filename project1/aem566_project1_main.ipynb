{
 "cells": [
  {
   "cell_type": "markdown",
   "id": "487cb61f",
   "metadata": {},
   "source": [
    "# Project 1: Linear Quadratic Regulator (LQR) Design\n",
    ">**Date Created**: 26 January 2024<br>\n",
    ">**Course**: AEM566 - Optimal Estimation<br>\n",
    ">**Author**: Benjamin Lucke<br>"
   ]
  },
  {
   "cell_type": "code",
   "execution_count": 21,
   "id": "8bafa594",
   "metadata": {},
   "outputs": [],
   "source": [
    "import control as ct\n",
    "import numpy as np\n",
    "import pandas as pd\n",
    "import scipy as sp\n",
    "import sympy as smp\n",
    "\n",
    "\n",
    "from matplotlib import pyplot as plt \n"
   ]
  },
  {
   "cell_type": "markdown",
   "id": "4f168041",
   "metadata": {},
   "source": [
    "# Problem Description\n",
    "___"
   ]
  },
  {
   "cell_type": "markdown",
   "id": "cdf57c87",
   "metadata": {},
   "source": [
    "### Dynamical System"
   ]
  },
  {
   "cell_type": "markdown",
   "id": "c8afe332",
   "metadata": {},
   "source": [
    "In many instances for spacecraft dynamics and control, one is interested in modeling the dynamics\n",
    "between multiple spacecraft, e.g., a **rendezvous and proximity operation (RPO)**. To that end,\n",
    "consider the following simplified model of two satellites operating in proximity, i.e. a simplified\n",
    "**three-body problem**, involving a **chaser spacecraft** and a **target spacecraft** (subscript $t$) on\n",
    "an elliptical orbit. One can represent this relative motion in the **Hill frame (HF)** for the target\n",
    "spacecraft as shown in the following figure."
   ]
  },
  {
   "attachments": {
    "hill_frame.PNG": {
     "image/png": "[encoded data removed]"
    }
   },
   "cell_type": "markdown",
   "id": "957576e1",
   "metadata": {},
   "source": [
    "![hill_frame.PNG](attachment:hill_frame.PNG)"
   ]
  },
  {
   "cell_type": "markdown",
   "id": "2d0be7ac",
   "metadata": {},
   "source": [
    "Thus, one can represent the target position relative to the celestial body in the target’s HF axes\n",
    "as $$\\vec{r}_t = \\begin{bmatrix} r_t \\\\ 0 \\\\ 0 \\end{bmatrix}$$"
   ]
  },
  {
   "cell_type": "markdown",
   "id": "62a077c8",
   "metadata": {},
   "source": [
    "and the relative position of the chaser in the target's HF axes as $$\\vec{\\rho} = \\begin{bmatrix} x \\\\ y \\\\ z\\end{bmatrix}$$"
   ]
  },
  {
   "cell_type": "markdown",
   "id": "a641d1f9",
   "metadata": {},
   "source": [
    "Then, noting $$\\vec{r}_c = \\vec{r}_t + \\vec{\\rho}$$ "
   ]
  },
  {
   "cell_type": "markdown",
   "id": "9db19699",
   "metadata": {},
   "source": [
    "## Problem 1\n",
    "\n",
    "Compute the eigenvalues of the state matrix for the continuous LTI system and comment on the stability of the system.\n",
    "#### Solution"
   ]
  },
  {
   "cell_type": "markdown",
   "id": "bacd93fc",
   "metadata": {},
   "source": [
    "Define constants"
   ]
  },
  {
   "cell_type": "code",
   "execution_count": 32,
   "id": "5230331d",
   "metadata": {},
   "outputs": [],
   "source": [
    "mu = 3.986004418*10**14 ## m^3s^-2\n",
    "rt = 6783000 # meters\n",
    "x0 = np.array([1000, 1000, 1000, 0, 0, 0]) # m\n",
    "nt = np.sqrt(mu/(rt**3))\n",
    "\n",
    "nt_symbolic = smp.Symbol('n_t')"
   ]
  },
  {
   "cell_type": "code",
   "execution_count": 64,
   "id": "6a780483",
   "metadata": {},
   "outputs": [
    {
     "name": "stdout",
     "output_type": "stream",
     "text": [
      "dict_keys([0, -0.0172046505340853, 0.0172046505340853, -0.01*I, 0.01*I])\n"
     ]
    }
   ],
   "source": [
    "A_ct_sympy = smp.Matrix([[0,0,0,1,0,0],\n",
    "                [0,0,0,0,1,0],\n",
    "                [0,0,0,0,0,1],\n",
    "                [3*nt_symbolic**2, 0,0,0, 2*nt_symbolic, 0],\n",
    "                [0,0,0, -2*nt_symbolic**2, 0,0],\n",
    "                [0, 0, -nt_symbolic**2, 0, 0, 0]])\n",
    "A_ct_numpy = np.array([[0,0,0,1,0,0],\n",
    "                [0,0,0,0,1,0],\n",
    "                [0,0,0,0,0,1],\n",
    "                [3*nt**2, 0,0,0, 2*nt, 0],\n",
    "                [0,0,0, -2*nt**2, 0,0],\n",
    "                [0, 0, -nt**2, 0, 0, 0]])\n",
    "eigs_A_symbolic = A_ct_sympy.subs(nt_symbolic, .01).eigenvals().keys()\n",
    "vals, vecs = np.linalg.eig(A_ct_numpy)\n",
    "print(eigs_A_symbolic)"
   ]
  },
  {
   "cell_type": "markdown",
   "id": "b5efe63e",
   "metadata": {},
   "source": [
    "$r_t$ will never be less than zero, and $\\mu$ is a constant greter than zero, so $n_t$ will always be greater than zero. For $n_t \\geq 0$, the eigenvalues of the dynamics matrix are purely imaginary and thus the system is **marginally stable**, that is, the system will have bounded oscillations with no control input. "
   ]
  },
  {
   "cell_type": "markdown",
   "id": "16bfd732",
   "metadata": {},
   "source": [
    "### Problem 2\n",
    "Compute the controllability matrix for the continuous-time LTI system."
   ]
  },
  {
   "cell_type": "code",
   "execution_count": 70,
   "id": "c9571bb2",
   "metadata": {},
   "outputs": [
    {
     "name": "stdout",
     "output_type": "stream",
     "text": [
      "6\n"
     ]
    }
   ],
   "source": [
    "B_ct_sympy = smp.Matrix([[0,0,0],\n",
    "                        [0,0,0],\n",
    "                        [0,0,0],\n",
    "                        [1,0,0],\n",
    "                        [0,1,0],\n",
    "                        [0,0,1]])\n",
    "\n",
    "B_ct_numpy = np.array([[0,0,0],\n",
    "                        [0,0,0],\n",
    "                        [0,0,0],\n",
    "                        [1,0,0],\n",
    "                        [0,1,0],\n",
    "                        [0,0,1]])\n",
    "\n",
    "ctrb = ct.ctrb(A_ct_numpy, B_ct_numpy)\n",
    "print(np.linalg.matrix_rank(ctrb))"
   ]
  },
  {
   "cell_type": "markdown",
   "id": "81e3b3a4",
   "metadata": {},
   "source": [
    "System is controllable since the controllability matrix is full rank."
   ]
  },
  {
   "cell_type": "markdown",
   "id": "c2db3e10",
   "metadata": {},
   "source": [
    "### Problem 3"
   ]
  },
  {
   "cell_type": "markdown",
   "id": "ca6c5da1",
   "metadata": {},
   "source": [
    "Design a finite-horizon LQR for the continuous time system with $t_f = 16200 s$."
   ]
  },
  {
   "cell_type": "code",
   "execution_count": 248,
   "id": "fcf1d91b",
   "metadata": {},
   "outputs": [],
   "source": [
    "def dPdt(t, P, A, B, Q, R):\n",
    "    P = P.reshape((6,6))\n",
    "    dpdt = (-np.dot(P,A) - np.dot(A.T, P) + np.dot(P, B).dot(np.linalg.inv(R)).dot(B.T).dot(P) - Q).flatten()\n",
    "    \n",
    "    return dpdt\n",
    "    \n",
    "sol = sp.integrate.solve_ivp(dPdt, t_span=[16200, 0], y0=np.zeros((6,6)).flatten(), args=(A_ct_numpy, B_ct_numpy, np.eye(6),np.eye(3)))\n",
    "\n",
    "t = np.flip(sol.t)\n",
    "P = np.flip(sol.y.reshape((6,6,-1)))\n"
   ]
  },
  {
   "cell_type": "code",
   "execution_count": 435,
   "id": "f60dd3f6",
   "metadata": {},
   "outputs": [],
   "source": [
    "def dPdt(t, P, A, B, Q, R):\n",
    "    P = P.reshape((6,6))\n",
    "    dpdt = (-np.dot(P,A) - np.dot(A.T, P) + np.dot(P, B).dot(np.linalg.inv(R)).dot(B.T).dot(P) - Q).flatten()\n",
    "    \n",
    "    return dpdt\n",
    "\n",
    "ts=np.linspace(16200, 0, 33000)\n",
    "af = sp.integrate.odeint(dPdt, y0=np.zeros((6,6)).flatten(),  t=ts, args=(A_ct_numpy, B_ct_numpy, np.eye(6),np.eye(3)),tfirst=True)\n",
    "Paf = af.reshape((6,6,-1))\n",
    "\n",
    "ts = np.flip(ts)\n",
    "Paf = np.flip(Paf)"
   ]
  },
  {
   "cell_type": "code",
   "execution_count": 436,
   "id": "f25a540b",
   "metadata": {},
   "outputs": [],
   "source": [
    "def dxdt(t, x, A, B, R, P, ts):\n",
    "    idx +=1 \n",
    "    print(idx)\n",
    "#     P_t = P[:,:,np.where((ts == t))[0][0]]\n",
    "#     K_t = np.linalg.inv(R).dot(B.T).dot(P_t)\n",
    "    \n",
    "    xdot = x\n",
    "    return xdot.flatten()\n",
    "    "
   ]
  },
  {
   "cell_type": "code",
   "execution_count": null,
   "id": "616eaafc",
   "metadata": {},
   "outputs": [],
   "source": []
  }
 ],
 "metadata": {
  "kernelspec": {
   "display_name": "Python 3 (ipykernel)",
   "language": "python",
   "name": "python3"
  },
  "language_info": {
   "codemirror_mode": {
    "name": "ipython",
    "version": 3
   },
   "file_extension": ".py",
   "mimetype": "text/x-python",
   "name": "python",
   "nbconvert_exporter": "python",
   "pygments_lexer": "ipython3",
   "version": "3.10.4"
  }
 },
 "nbformat": 4,
 "nbformat_minor": 5
}
