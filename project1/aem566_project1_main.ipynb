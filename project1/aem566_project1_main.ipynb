{
 "cells": [
  {
   "cell_type": "markdown",
   "id": "487cb61f",
   "metadata": {},
   "source": [
    "# Project 1: Linear Quadratic Regulator (LQR) Design\n",
    ">**Date Created**: 26 January 2024<br>\n",
    ">**Course**: AEM566 - Optimal Estimation<br>\n",
    ">**Author**: Benjamin Lucke<br>"
   ]
  },
  {
   "cell_type": "code",
   "execution_count": 875,
   "id": "8bafa594",
   "metadata": {},
   "outputs": [],
   "source": [
    "import control as ct\n",
    "import numpy as np\n",
    "import pandas as pd\n",
    "import scipy as sp\n",
    "import sympy as smp\n",
    "\n",
    "from numpy import sin, cos\n",
    "from matplotlib import pyplot as plt"
   ]
  },
  {
   "cell_type": "markdown",
   "id": "4f168041",
   "metadata": {},
   "source": [
    "# Problem Description\n",
    "___"
   ]
  },
  {
   "cell_type": "markdown",
   "id": "cdf57c87",
   "metadata": {},
   "source": [
    "### Dynamical System"
   ]
  },
  {
   "cell_type": "markdown",
   "id": "c8afe332",
   "metadata": {},
   "source": [
    "In many instances for spacecraft dynamics and control, one is interested in modeling the dynamics\n",
    "between multiple spacecraft, e.g., a **rendezvous and proximity operation (RPO)**. To that end,\n",
    "consider the following simplified model of two satellites operating in proximity, i.e. a simplified\n",
    "**three-body problem**, involving a **chaser spacecraft** and a **target spacecraft** (subscript $t$) on\n",
    "an elliptical orbit. One can represent this relative motion in the **Hill frame (HF)** for the target\n",
    "spacecraft as shown in the following figure."
   ]
  },
  {
   "attachments": {
    "hill_frame.PNG": {
     "image/png": "[encoded data removed]"
    }
   },
   "cell_type": "markdown",
   "id": "957576e1",
   "metadata": {},
   "source": [
    "![hill_frame.PNG](attachment:hill_frame.PNG)"
   ]
  },
  {
   "cell_type": "markdown",
   "id": "2d0be7ac",
   "metadata": {},
   "source": [
    "Thus, one can represent the target position relative to the celestial body in the target’s HF axes\n",
    "as $$\\vec{r}_t = \\begin{bmatrix} r_t \\\\ 0 \\\\ 0 \\end{bmatrix}$$"
   ]
  },
  {
   "cell_type": "markdown",
   "id": "62a077c8",
   "metadata": {},
   "source": [
    "and the relative position of the chaser in the target's HF axes as $$\\vec{\\rho} = \\begin{bmatrix} x \\\\ y \\\\ z\\end{bmatrix}$$"
   ]
  },
  {
   "cell_type": "markdown",
   "id": "a641d1f9",
   "metadata": {},
   "source": [
    "Then, noting $$\\vec{r}_c = \\vec{r}_t + \\vec{\\rho}$$ "
   ]
  },
  {
   "cell_type": "markdown",
   "id": "9db19699",
   "metadata": {},
   "source": [
    "## Problem 1\n",
    "\n",
    "Compute the eigenvalues of the state matrix for the continuous LTI system and comment on the stability of the system."
   ]
  },
  {
   "cell_type": "code",
   "execution_count": 876,
   "id": "5230331d",
   "metadata": {},
   "outputs": [],
   "source": [
    "mu = 3.986004418 * 10**14\n",
    "rt = 6783000\n",
    "x0 = np.array([1000, 1000, 1000, 0, 0, 0])\n",
    "nt = np.sqrt(mu / (rt**3))\n",
    "ti = 0\n",
    "tf = 16200\n",
    "n = 25000\n",
    "t_eval = np.linspace(ti, tf, n)"
   ]
  },
  {
   "cell_type": "code",
   "execution_count": 877,
   "id": "6a780483",
   "metadata": {},
   "outputs": [],
   "source": [
    "A_ct_numpy = np.array(\n",
    "    [\n",
    "        [0, 0, 0, 1, 0, 0],\n",
    "        [0, 0, 0, 0, 1, 0],\n",
    "        [0, 0, 0, 0, 0, 1],\n",
    "        [3 * nt**2, 0, 0, 0, 2 * nt, 0],\n",
    "        [0, 0, 0, -2 * nt**2, 0, 0],\n",
    "        [0, 0, -(nt**2), 0, 0, 0],\n",
    "    ]\n",
    ")\n",
    "B_ct_numpy = np.array(\n",
    "    [\n",
    "     [0, 0, 0],\n",
    "     [0, 0, 0], \n",
    "     [0, 0, 0], \n",
    "     [1, 0, 0], \n",
    "     [0, 1, 0], \n",
    "     [0, 0, 1]\n",
    "    ]\n",
    ")\n",
    "e = np.linalg.eig(A_ct_numpy)"
   ]
  },
  {
   "cell_type": "markdown",
   "id": "33858efa",
   "metadata": {},
   "source": [
    "**Problem Response**"
   ]
  },
  {
   "cell_type": "markdown",
   "id": "b5efe63e",
   "metadata": {},
   "source": [
    "> $r_t$ will never be less than zero, and $\\mu$ is a constant greter than zero, so $n_t$ will always be greater than zero. For $n_t \\geq 0.75$, the eigenvalues of the dynamics matrix are purely imaginary and thus the system is **marginally stable**, that is, the system will have bounded oscillations with no control input. "
   ]
  },
  {
   "cell_type": "markdown",
   "id": "16bfd732",
   "metadata": {},
   "source": [
    "## Problem 2\n",
    "Compute the controllability matrix for the continuous-time LTI system."
   ]
  },
  {
   "cell_type": "code",
   "execution_count": 878,
   "id": "c9571bb2",
   "metadata": {},
   "outputs": [
    {
     "name": "stdout",
     "output_type": "stream",
     "text": [
      "6\n"
     ]
    }
   ],
   "source": [
    "ctrb = ct.ctrb(A_ct_numpy, B_ct_numpy)\n",
    "print(np.linalg.matrix_rank(ctrb))"
   ]
  },
  {
   "cell_type": "markdown",
   "id": "55d04c0a",
   "metadata": {},
   "source": [
    "**Problem Response**"
   ]
  },
  {
   "cell_type": "markdown",
   "id": "81e3b3a4",
   "metadata": {},
   "source": [
    "> System is controllable since the controllability matrix is full rank."
   ]
  },
  {
   "cell_type": "markdown",
   "id": "c2db3e10",
   "metadata": {},
   "source": [
    "## Problem 3"
   ]
  },
  {
   "cell_type": "markdown",
   "id": "ca6c5da1",
   "metadata": {},
   "source": [
    "Design a finite-horizon LQR for the continuous time system with $t_f = 16200 s$ using ODE solvers."
   ]
  },
  {
   "cell_type": "code",
   "execution_count": 879,
   "id": "fcf1d91b",
   "metadata": {},
   "outputs": [],
   "source": [
    "# Defone functions to be passed into ODE solvers \n",
    "\n",
    "def dPdt(t, P, A, B, Q, R):\n",
    "    P = P.reshape((6, 6))\n",
    "    dpdt = (\n",
    "        -np.dot(P, A)\n",
    "        - np.dot(A.T, P)\n",
    "        + np.dot(P, B).dot(np.linalg.inv(R)).dot(B.T).dot(P)\n",
    "        - Q\n",
    "    ).flatten()\n",
    "    return dpdt\n",
    "\n",
    "\n",
    "def dxdt(t, x, A, B, R, P, ts):\n",
    "    interp_P = sp.interpolate.interp1d(ts, P.reshape(6,6,-1))\n",
    "    P_t = interp_P(t).reshape((6, 6))\n",
    "    K_t = np.linalg.inv(R) @ B.T @ P_t \n",
    "    u = -K_t @ x \n",
    "    xdot = (A - B @ K_t) @ x\n",
    "    return xdot\n",
    "\n",
    "\n",
    "def calc_u(Ps, A, R, B, t_solve):\n",
    "    u_s = np.zeros((3, t_solve.shape[0]))\n",
    "    interp_P = sp.interpolate.interp1d(t_solve, Ps.reshape(36, -1))\n",
    "    for k, t in enumerate(t_solve):\n",
    "        if k == 0:\n",
    "            x = np.array([1000, 1000, 1000, 0, 0 ,0])\n",
    "        else:\n",
    "            x = x_c\n",
    "        P_t = interp_P(t).reshape((6, 6))\n",
    "        K_t = np.linalg.inv(R) @ B.T @ P_t\n",
    "        u = -K_t @ x\n",
    "        x = A @ x + B @ u\n",
    "        x_c = x \n",
    "        u_s[:, k] = u\n",
    "    return u_s"
   ]
  },
  {
   "cell_type": "code",
   "execution_count": 916,
   "id": "1b903dad",
   "metadata": {},
   "outputs": [],
   "source": [
    "# Case 1\n",
    "sols_P_case1 = sp.integrate.solve_ivp(\n",
    "    fun=dPdt,\n",
    "    t_span=[16200, 0],\n",
    "    y0=np.zeros((6, 6)).flatten(),\n",
    "    args=(A_ct_numpy, B_ct_numpy, np.eye(6), np.eye(3)),\n",
    ")\n",
    "\n",
    "\n",
    "# Flip time series and P so we can use it to solve for \\vec{x} from [0,tf]\n",
    "t_solve_case1 = np.flip(sols_P_case1.t)\n",
    "P_case1 = np.flip(sols_P_case1.y.reshape((6, 6, -1)))\n",
    "\n",
    "sols_cl_case1 = sp.integrate.solve_ivp(\n",
    "    dxdt,\n",
    "    t_span=[0, 16200],\n",
    "    t_eval=t_solve_case1,\n",
    "    y0=x0,\n",
    "    args=(A_ct_numpy, B_ct_numpy, np.eye(3), P_case1, t_solve_case1),\n",
    ")\n",
    "\n",
    "\n"
   ]
  },
  {
   "cell_type": "code",
   "execution_count": 926,
   "id": "4eb60289",
   "metadata": {},
   "outputs": [
    {
     "ename": "ValueError",
     "evalue": "x and y arrays must be equal in length along interpolation axis.",
     "output_type": "error",
     "traceback": [
      "\u001b[1;31m---------------------------------------------------------------------------\u001b[0m",
      "\u001b[1;31mValueError\u001b[0m                                Traceback (most recent call last)",
      "Input \u001b[1;32mIn [926]\u001b[0m, in \u001b[0;36m<cell line: 1>\u001b[1;34m()\u001b[0m\n\u001b[1;32m----> 1\u001b[0m a \u001b[38;5;241m=\u001b[39m \u001b[43mcalc_u\u001b[49m\u001b[43m(\u001b[49m\u001b[43mP_case1\u001b[49m\u001b[43m,\u001b[49m\u001b[43m \u001b[49m\u001b[43mA_ct_numpy\u001b[49m\u001b[43m,\u001b[49m\u001b[43m \u001b[49m\u001b[43mnp\u001b[49m\u001b[38;5;241;43m.\u001b[39;49m\u001b[43meye\u001b[49m\u001b[43m(\u001b[49m\u001b[38;5;241;43m3\u001b[39;49m\u001b[43m)\u001b[49m\u001b[43m,\u001b[49m\u001b[43m \u001b[49m\u001b[43mB_ct_numpy\u001b[49m\u001b[43m,\u001b[49m\u001b[43m \u001b[49m\u001b[43m(\u001b[49m\u001b[43mt_eval\u001b[49m\u001b[43m)\u001b[49m\u001b[43m)\u001b[49m\n",
      "Input \u001b[1;32mIn [879]\u001b[0m, in \u001b[0;36mcalc_u\u001b[1;34m(Ps, A, R, B, t_solve)\u001b[0m\n\u001b[0;32m     23\u001b[0m \u001b[38;5;28;01mdef\u001b[39;00m \u001b[38;5;21mcalc_u\u001b[39m(Ps, A, R, B, t_solve):\n\u001b[0;32m     24\u001b[0m     u_s \u001b[38;5;241m=\u001b[39m np\u001b[38;5;241m.\u001b[39mzeros((\u001b[38;5;241m3\u001b[39m, t_solve\u001b[38;5;241m.\u001b[39mshape[\u001b[38;5;241m0\u001b[39m]))\n\u001b[1;32m---> 25\u001b[0m     interp_P \u001b[38;5;241m=\u001b[39m \u001b[43msp\u001b[49m\u001b[38;5;241;43m.\u001b[39;49m\u001b[43minterpolate\u001b[49m\u001b[38;5;241;43m.\u001b[39;49m\u001b[43minterp1d\u001b[49m\u001b[43m(\u001b[49m\u001b[43mt_solve\u001b[49m\u001b[43m,\u001b[49m\u001b[43m \u001b[49m\u001b[43mPs\u001b[49m\u001b[38;5;241;43m.\u001b[39;49m\u001b[43mreshape\u001b[49m\u001b[43m(\u001b[49m\u001b[38;5;241;43m36\u001b[39;49m\u001b[43m,\u001b[49m\u001b[43m \u001b[49m\u001b[38;5;241;43m-\u001b[39;49m\u001b[38;5;241;43m1\u001b[39;49m\u001b[43m)\u001b[49m\u001b[43m)\u001b[49m\n\u001b[0;32m     26\u001b[0m     \u001b[38;5;28;01mfor\u001b[39;00m k, t \u001b[38;5;129;01min\u001b[39;00m \u001b[38;5;28menumerate\u001b[39m(t_solve):\n\u001b[0;32m     27\u001b[0m         \u001b[38;5;28;01mif\u001b[39;00m k \u001b[38;5;241m==\u001b[39m \u001b[38;5;241m0\u001b[39m:\n",
      "File \u001b[1;32m~\\anaconda3\\envs\\mlenv\\lib\\site-packages\\scipy\\interpolate\\_interpolate.py:446\u001b[0m, in \u001b[0;36minterp1d.__init__\u001b[1;34m(self, x, y, kind, axis, copy, bounds_error, fill_value, assume_sorted)\u001b[0m\n\u001b[0;32m    442\u001b[0m \u001b[38;5;28;01mdef\u001b[39;00m \u001b[38;5;21m__init__\u001b[39m(\u001b[38;5;28mself\u001b[39m, x, y, kind\u001b[38;5;241m=\u001b[39m\u001b[38;5;124m'\u001b[39m\u001b[38;5;124mlinear\u001b[39m\u001b[38;5;124m'\u001b[39m, axis\u001b[38;5;241m=\u001b[39m\u001b[38;5;241m-\u001b[39m\u001b[38;5;241m1\u001b[39m,\n\u001b[0;32m    443\u001b[0m              copy\u001b[38;5;241m=\u001b[39m\u001b[38;5;28;01mTrue\u001b[39;00m, bounds_error\u001b[38;5;241m=\u001b[39m\u001b[38;5;28;01mNone\u001b[39;00m, fill_value\u001b[38;5;241m=\u001b[39mnp\u001b[38;5;241m.\u001b[39mnan,\n\u001b[0;32m    444\u001b[0m              assume_sorted\u001b[38;5;241m=\u001b[39m\u001b[38;5;28;01mFalse\u001b[39;00m):\n\u001b[0;32m    445\u001b[0m     \u001b[38;5;124;03m\"\"\" Initialize a 1-D linear interpolation class.\"\"\"\u001b[39;00m\n\u001b[1;32m--> 446\u001b[0m     \u001b[43m_Interpolator1D\u001b[49m\u001b[38;5;241;43m.\u001b[39;49m\u001b[38;5;21;43m__init__\u001b[39;49m\u001b[43m(\u001b[49m\u001b[38;5;28;43mself\u001b[39;49m\u001b[43m,\u001b[49m\u001b[43m \u001b[49m\u001b[43mx\u001b[49m\u001b[43m,\u001b[49m\u001b[43m \u001b[49m\u001b[43my\u001b[49m\u001b[43m,\u001b[49m\u001b[43m \u001b[49m\u001b[43maxis\u001b[49m\u001b[38;5;241;43m=\u001b[39;49m\u001b[43maxis\u001b[49m\u001b[43m)\u001b[49m\n\u001b[0;32m    448\u001b[0m     \u001b[38;5;28mself\u001b[39m\u001b[38;5;241m.\u001b[39mbounds_error \u001b[38;5;241m=\u001b[39m bounds_error  \u001b[38;5;66;03m# used by fill_value setter\u001b[39;00m\n\u001b[0;32m    449\u001b[0m     \u001b[38;5;28mself\u001b[39m\u001b[38;5;241m.\u001b[39mcopy \u001b[38;5;241m=\u001b[39m copy\n",
      "File \u001b[1;32m~\\anaconda3\\envs\\mlenv\\lib\\site-packages\\scipy\\interpolate\\_polyint.py:54\u001b[0m, in \u001b[0;36m_Interpolator1D.__init__\u001b[1;34m(self, xi, yi, axis)\u001b[0m\n\u001b[0;32m     52\u001b[0m \u001b[38;5;28mself\u001b[39m\u001b[38;5;241m.\u001b[39mdtype \u001b[38;5;241m=\u001b[39m \u001b[38;5;28;01mNone\u001b[39;00m\n\u001b[0;32m     53\u001b[0m \u001b[38;5;28;01mif\u001b[39;00m yi \u001b[38;5;129;01mis\u001b[39;00m \u001b[38;5;129;01mnot\u001b[39;00m \u001b[38;5;28;01mNone\u001b[39;00m:\n\u001b[1;32m---> 54\u001b[0m     \u001b[38;5;28;43mself\u001b[39;49m\u001b[38;5;241;43m.\u001b[39;49m\u001b[43m_set_yi\u001b[49m\u001b[43m(\u001b[49m\u001b[43myi\u001b[49m\u001b[43m,\u001b[49m\u001b[43m \u001b[49m\u001b[43mxi\u001b[49m\u001b[38;5;241;43m=\u001b[39;49m\u001b[43mxi\u001b[49m\u001b[43m,\u001b[49m\u001b[43m \u001b[49m\u001b[43maxis\u001b[49m\u001b[38;5;241;43m=\u001b[39;49m\u001b[43maxis\u001b[49m\u001b[43m)\u001b[49m\n",
      "File \u001b[1;32m~\\anaconda3\\envs\\mlenv\\lib\\site-packages\\scipy\\interpolate\\_polyint.py:124\u001b[0m, in \u001b[0;36m_Interpolator1D._set_yi\u001b[1;34m(self, yi, xi, axis)\u001b[0m\n\u001b[0;32m    122\u001b[0m     shape \u001b[38;5;241m=\u001b[39m (\u001b[38;5;241m1\u001b[39m,)\n\u001b[0;32m    123\u001b[0m \u001b[38;5;28;01mif\u001b[39;00m xi \u001b[38;5;129;01mis\u001b[39;00m \u001b[38;5;129;01mnot\u001b[39;00m \u001b[38;5;28;01mNone\u001b[39;00m \u001b[38;5;129;01mand\u001b[39;00m shape[axis] \u001b[38;5;241m!=\u001b[39m \u001b[38;5;28mlen\u001b[39m(xi):\n\u001b[1;32m--> 124\u001b[0m     \u001b[38;5;28;01mraise\u001b[39;00m \u001b[38;5;167;01mValueError\u001b[39;00m(\u001b[38;5;124m\"\u001b[39m\u001b[38;5;124mx and y arrays must be equal in length along \u001b[39m\u001b[38;5;124m\"\u001b[39m\n\u001b[0;32m    125\u001b[0m                      \u001b[38;5;124m\"\u001b[39m\u001b[38;5;124minterpolation axis.\u001b[39m\u001b[38;5;124m\"\u001b[39m)\n\u001b[0;32m    127\u001b[0m \u001b[38;5;28mself\u001b[39m\u001b[38;5;241m.\u001b[39m_y_axis \u001b[38;5;241m=\u001b[39m (axis \u001b[38;5;241m%\u001b[39m yi\u001b[38;5;241m.\u001b[39mndim)\n\u001b[0;32m    128\u001b[0m \u001b[38;5;28mself\u001b[39m\u001b[38;5;241m.\u001b[39m_y_extra_shape \u001b[38;5;241m=\u001b[39m yi\u001b[38;5;241m.\u001b[39mshape[:\u001b[38;5;28mself\u001b[39m\u001b[38;5;241m.\u001b[39m_y_axis]\u001b[38;5;241m+\u001b[39myi\u001b[38;5;241m.\u001b[39mshape[\u001b[38;5;28mself\u001b[39m\u001b[38;5;241m.\u001b[39m_y_axis\u001b[38;5;241m+\u001b[39m\u001b[38;5;241m1\u001b[39m:]\n",
      "\u001b[1;31mValueError\u001b[0m: x and y arrays must be equal in length along interpolation axis."
     ]
    }
   ],
   "source": [
    "a = calc_u(P_case1, A_ct_numpy, np.eye(3), B_ct_numpy, (t_eval))"
   ]
  },
  {
   "cell_type": "code",
   "execution_count": 925,
   "id": "4dd5560b",
   "metadata": {},
   "outputs": [
    {
     "data": {
      "text/plain": [
       "(0.0, 60.0)"
      ]
     },
     "execution_count": 925,
     "metadata": {},
     "output_type": "execute_result"
    },
    {
     "data": {
      "image/png": "[encoded data removed]",
      "text/plain": [
       "<Figure size 640x480 with 1 Axes>"
      ]
     },
     "metadata": {},
     "output_type": "display_data"
    }
   ],
   "source": [
    "plt.plot(sols_cl_case1.y[0,:])\n",
    "plt.xlim([0,60])"
   ]
  },
  {
   "cell_type": "code",
   "execution_count": 883,
   "id": "d594ec2c",
   "metadata": {},
   "outputs": [],
   "source": [
    "# Case 2\n",
    "\n",
    "sols_P_case2 = sp.integrate.solve_ivp(\n",
    "    dPdt,\n",
    "    t_span=[16200, 0],\n",
    "    t_eval=np.flip(t_eval),\n",
    "    y0=np.zeros((6, 6)).flatten(),\n",
    "    args=(A_ct_numpy, B_ct_numpy, np.eye(6), 100 * np.eye(3)),\n",
    ")\n",
    "t_solve_case2 = np.flip(sols_P_case2.t)\n",
    "P_case2 = np.flip(sols_P_case2.y.reshape((6, 6, -1)))\n",
    "sols_cl_case2 = sp.integrate.solve_ivp(\n",
    "    dxdt,\n",
    "    t_span=[0, 16200],\n",
    "    t_eval=t_solve_case2,\n",
    "    y0=x0,\n",
    "    args=(A_ct_numpy, B_ct_numpy, 100 * np.eye(3), P_case2, t_solve_case2),\n",
    ")"
   ]
  },
  {
   "cell_type": "code",
   "execution_count": 884,
   "id": "68ffc5af",
   "metadata": {},
   "outputs": [],
   "source": [
    "# Case 3\n",
    "\n",
    "sols_P_case3 = sp.integrate.solve_ivp(\n",
    "    dPdt,\n",
    "    t_span=[16200, 0],\n",
    "    t_eval=np.flip(t_eval),\n",
    "    y0=np.zeros((6, 6)).flatten(),\n",
    "    args=(A_ct_numpy, B_ct_numpy, np.eye(6), 10000 * np.eye(3)),\n",
    ")\n",
    "t_solve_case3 = np.flip(sols_P_case3.t)\n",
    "P_case3 = np.flip(sols_P_case3.y.reshape((6, 6, -1)))\n",
    "sols_cl_case3 = sp.integrate.solve_ivp(\n",
    "    dxdt,\n",
    "    t_span=[0, 16200],\n",
    "    t_eval=t_solve_case3,\n",
    "    y0=x0,\n",
    "    args=(A_ct_numpy, B_ct_numpy, 10000 * np.eye(3), P_case3, t_solve_case3),\n",
    ")"
   ]
  },
  {
   "cell_type": "code",
   "execution_count": 897,
   "id": "c1c18d7e",
   "metadata": {
    "scrolled": true
   },
   "outputs": [],
   "source": []
  },
  {
   "cell_type": "code",
   "execution_count": 912,
   "id": "70c0560a",
   "metadata": {},
   "outputs": [
    {
     "data": {
      "text/plain": [
       "(0.0, 60.0)"
      ]
     },
     "execution_count": 912,
     "metadata": {},
     "output_type": "execute_result"
    },
    {
     "data": {
      "image/png": "[encoded data removed]",
      "text/plain": [
       "<Figure size 640x480 with 1 Axes>"
      ]
     },
     "metadata": {},
     "output_type": "display_data"
    }
   ],
   "source": [
    "plt.plot(sols_cl_case2.y[0,:])\n",
    "plt.xlim([0, 60])"
   ]
  },
  {
   "cell_type": "markdown",
   "id": "8611e54e",
   "metadata": {},
   "source": [
    "### Problem 4"
   ]
  },
  {
   "cell_type": "markdown",
   "id": "36c509b6",
   "metadata": {},
   "source": [
    "Design a finite-horizon LQR for the continuous time system with $t_f = 16200 s$ using a continuous-time algebraic Riccati equation solver."
   ]
  },
  {
   "cell_type": "code",
   "execution_count": 499,
   "id": "9aa31478",
   "metadata": {},
   "outputs": [],
   "source": [
    "A = np.array([[0,0,0,1,0,0],\n",
    "             [0,0,0,0,1,0],\n",
    "             [0,0,0,0,0,1],\n",
    "             [3*nt**2, 0, 0, 0, 2*nt, 0],\n",
    "             [0,0,0,-2*nt,0,0],\n",
    "             [0,0,-nt**2,0,0,0]])\n",
    "B = np.array([[0,0,0],\n",
    "             [0,0,0],\n",
    "             [0,0,0],\n",
    "             [1,0,0],\n",
    "             [0,1,0],\n",
    "             [0,0,1]])"
   ]
  },
  {
   "cell_type": "code",
   "execution_count": 500,
   "id": "49ef7406",
   "metadata": {},
   "outputs": [],
   "source": [
    "def dxdt_care(t, x, A, B, P, R):\n",
    "    K_t = np.linalg.inv(R) @ B.T @ P\n",
    "    xdot = (A - B @ K_t) @ x\n",
    "    return xdot\n",
    "\n",
    "def calc_u_care(t_eval, A, B, R, P):\n",
    "    u_s = np.zeros((3, t_eval.shape[0]))  # array to hold output commands, u\n",
    "    K_t = np.linalg.inv(R) @ B.T @ P # Optimal gain calculation\n",
    "    \n",
    "    # Compute dynamics and optimal control input, u at each value of t in the series\n",
    "    for k, t in enumerate(t_eval):\n",
    "        if k == 0:\n",
    "            x = x0\n",
    "        else:\n",
    "            x = x_c\n",
    "        u = - K_t @ x\n",
    "        u_s[:,k] = u\n",
    "        xdot = A @ x + B @ u\n",
    "        x = x + xdot\n",
    "        x_c = x\n",
    "    return u_s"
   ]
  },
  {
   "cell_type": "code",
   "execution_count": 501,
   "id": "0b655042",
   "metadata": {},
   "outputs": [],
   "source": [
    "# Case 1 \n",
    "Q = np.eye(6)\n",
    "R = np.eye(3)\n",
    "P_case1_care = sp.linalg.solve_continuous_are(A_ct_numpy, B_ct_numpy, Q, R)\n",
    "sol_case1_care = sp.integrate.solve_ivp(fun=dxdt_care, t_span=[ti, tf], t_eval=t_eval, y0=x0, args=(A, B, P_case1_care, R))\n",
    "u_case1_care = calc_u_care(t_eval, A_ct_numpy, B_ct_numpy, R, P_case1_care) \n",
    "\n",
    "# Case 2\n",
    "Q = np.eye(6)\n",
    "R = 100*np.eye(3)\n",
    "P_care_case2 = sp.linalg.solve_continuous_are(A_ct_numpy, B_ct_numpy, Q, R)\n",
    "sol_case2_care = sp.integrate.solve_ivp(fun=dxdt_care, t_span=[ti, tf],t_eval=t_eval, y0=x0, args=(A, B, P_care_case2, R))\n",
    "case2_care = calc_u_care(t_eval, A_ct_numpy, B_ct_numpy, R, P_care_case2) \n",
    "\n",
    "# Case 3\n",
    "Q = np.eye(6)\n",
    "R = 10000*np.eye(3)\n",
    "P_care_case3 = sp.linalg.solve_continuous_are(A_ct_numpy, B_ct_numpy, Q, R)\n",
    "sol_case3_care = sp.integrate.solve_ivp(fun=dxdt_care, t_span=[ti, tf], t_eval=t_eval, y0=x0, args=(A, B_ct_numpy, P_care_case3, R))\n",
    "u_case3_care = calc_u_care(t_eval, A_ct_numpy, B, R, P_care_case3) \n"
   ]
  },
  {
   "cell_type": "code",
   "execution_count": 502,
   "id": "39223876",
   "metadata": {},
   "outputs": [],
   "source": [
    "def plot_u(u_s, title='Case 1'):\n",
    "    fig, (ax1, ax2, ax3) = plt.subplots(nrows=3, ncols=1, figsize=(10,10),sharex=True,sharey=True)\n",
    "    ax1.plot(t_eval, u_s[0,:])\n",
    "    ax1.set_xlim([0, 40])\n",
    "    ax1.set_title('$u_x$')\n",
    "    ax2.plot(t_eval, u_s[1,:])\n",
    "    ax2.set_xlim([0, 40])\n",
    "    ax2.set_title('$u_y$')\n",
    "    ax3.plot(t_eval, u_s[2,:])\n",
    "    ax3.set_xlim([0, 40])\n",
    "    ax3.set_title('$u_z$')\n",
    "    fig.supxlabel('Time (sec)')\n",
    "    fig.supylabel('Commanded Acceleration ($m/s^2$)')\n",
    "    fig.suptitle(title,fontsize='x-large')\n",
    "    "
   ]
  },
  {
   "cell_type": "code",
   "execution_count": 506,
   "id": "946ff895",
   "metadata": {},
   "outputs": [],
   "source": [
    "def plot_xy(sols, title='Case 1'):\n",
    "    fig, ax  = plt.subplots()\n",
    "    ax.plot(sols.y[0,:],sols.y[1,:])\n",
    "    ax.set_title(title, fontsize='x-large')\n",
    "    ax.set_xlabel('x (meters)')\n",
    "    ax.set_ylabel('y (meters)')    "
   ]
  },
  {
   "cell_type": "code",
   "execution_count": 508,
   "id": "75574d94",
   "metadata": {},
   "outputs": [],
   "source": [
    "def plot_z(t_eval, sols, title='Case 1'):\n",
    "    fig, ax  = plt.subplots()\n",
    "    ax.plot(t_eval, sols.y[2,:])\n",
    "    ax.set_title(title, fontsize='x-large')\n",
    "    ax.set_xlabel('Time (seconds)')\n",
    "    ax.set_ylabel('z (meters)')   "
   ]
  },
  {
   "cell_type": "markdown",
   "id": "8f04bf4a",
   "metadata": {},
   "source": [
    "### Problem 5"
   ]
  },
  {
   "cell_type": "markdown",
   "id": "851d51b2",
   "metadata": {},
   "source": [
    "Design a finite-horizon LQR for the discrete-time LTI system approximation with $\\Delta t = 1s$ and $N = 1500$."
   ]
  },
  {
   "cell_type": "code",
   "execution_count": 825,
   "id": "6a1a0c42",
   "metadata": {},
   "outputs": [],
   "source": [
    "# Define dynamics and constants\n",
    "P0 = np.zeros((6,6))\n",
    "N = 1500\n",
    "dt = 1\n",
    "F = lambda nt, dt: np.array([[4-3*cos(nt*dt), 0, 0, nt**(-1)*sin(nt*dt), 2*nt**(-1)*(1-cos(nt*dt)), 0],\n",
    "                            [6*(sin(nt*dt)-nt*dt), 1, 0, -2*nt**(-1)*(1-cos(nt*dt)), nt**(-1)*(4*sin(nt*dt)-3*nt*dt), 0],\n",
    "                            [0, 0, cos(nt*dt), 0,0, nt**(-1)*sin(nt*dt)],\n",
    "                            [3*nt*sin(nt*dt), 0, 0, cos(nt*dt), 2*sin(nt*dt), 0],\n",
    "                            [-6*nt*(1-cos(nt*dt)), 0, 0, -2*sin(nt*dt), 4*cos(nt*dt) - 3, 0],\n",
    "                            [0, 0, -nt*sin(dt*dt), 0, 0, cos(nt*dt)]])\n",
    "G = lambda nt, dt: F(nt, dt)[:,3:]"
   ]
  },
  {
   "cell_type": "code",
   "execution_count": 828,
   "id": "28623bfa",
   "metadata": {},
   "outputs": [],
   "source": [
    "# Define functions to solve discrete-time Riccati Equation and Closed Loop Dynamics\n",
    "\n",
    "def recursive_solve_are(N, dt, nt, F, G, Q, R, P0):\n",
    "    F_k = F(nt, dt)\n",
    "    G_k = G(nt, dt)\n",
    "    Ps = np.zeros((6,6,N))\n",
    "    \n",
    "    for k in range(N):\n",
    "        if k == 0:\n",
    "            P = P0\n",
    "            Ps[:,:,k] = P\n",
    "            continue\n",
    "        else:\n",
    "            Pkm1 = F_k.T @ P @ F_k + Q - (F_k.T @ P @ G_k) @ np.linalg.inv(G_k.T @ P @ G_k + R) @ (G_k.T @ P @ F_k)\n",
    "            Ps[:,:, k] = Pkm1\n",
    "            P = Pkm1\n",
    "    return Ps\n",
    "\n",
    "def solve_recursive_cl(N, dt, nt, F, G, Ps, Q, R, x0):\n",
    "    F_k = F(nt, dt)\n",
    "    G_k = G(nt, dt)\n",
    "    xd = np.zeros((6,N))\n",
    "    u_s = np.zeros((3,N))\n",
    "    for k in range(N):\n",
    "        if k == 0:\n",
    "            x = x0\n",
    "            xkp1 = x0\n",
    "            K = np.linalg.inv((G_k.T @ Ps[:,:, 0] @ G_k + R)) @ (G_k.T @ Ps[:,:, 0] @ F_k)\n",
    "            u = -K @ x\n",
    "        elif k < N-1:\n",
    "            K = np.linalg.inv((G_k.T @ Ps[:,:, k + 1] @ G_k + R)) @ (G_k.T @ Ps[:,:, k + 1] @ F_k)\n",
    "            u = -K @ x\n",
    "            xkp1 = (F_k - G_k @ K) @ x\n",
    "        else:\n",
    "            K = np.linalg.inv((G_k.T @ Ps[:,:, k] @ G_k + R)) @ (G_k.T @ Ps[:,:, k] @ F_k)\n",
    "            u = -K @ x\n",
    "            xkp1 = (F_k - G_k @ K) @ x\n",
    "        xd[:, k] = xkp1\n",
    "        u_s[:,k] = u\n",
    "        x = xkp1\n",
    "    return xd, us"
   ]
  },
  {
   "cell_type": "code",
   "execution_count": 829,
   "id": "48004839",
   "metadata": {},
   "outputs": [],
   "source": [
    "# Case 1\n",
    "Q = np.eye(6)\n",
    "R = np.eye(3)\n",
    "\n",
    "P_case1_discrete = recursive_solve_are(N, dt, nt, F, G, Q, R, P0)\n",
    "sol_case1_discrete, u_case1_discrete = solve_recursive_cl(N, dt, nt, F, G, P_case1_discrete, Q, R, x0)\n",
    "\n",
    "# Case 2\n",
    "Q = np.eye(6)\n",
    "R = 100*np.eye(3)\n",
    "\n",
    "P_case2_discrete = recursive_solve_are(N, dt, nt, F, G, Q, R, P0)\n",
    "sol_case2_discrete, u_case2_discrete = solve_recursive_cl(N, dt, nt, F, G, P_case2_discrete, Q, R, x0)\n",
    "\n",
    "# Case 3\n",
    "Q = np.eye(6)\n",
    "R = 10000*np.eye(3)\n",
    "\n",
    "P_case3_discrete = recursive_solve_are(N, dt, nt, F, G, Q, R, P0)\n",
    "sol_case3_discrete, u_case3_discrete = solve_recursive_cl(N, dt, nt, F, G, P_case3_discrete, Q, R, x0)"
   ]
  },
  {
   "cell_type": "markdown",
   "id": "34088610",
   "metadata": {},
   "source": [
    "### Problem 6"
   ]
  },
  {
   "cell_type": "code",
   "execution_count": 830,
   "id": "eedcd86a",
   "metadata": {},
   "outputs": [],
   "source": [
    "def solve_recursive_cl_constant_P(N, dt, nt, F, G, P, Q, R, x0):\n",
    "    F_k = F(nt, dt)\n",
    "    G_k = G(nt, dt)\n",
    "    K_k = np.linalg.inv(G_k.T @ P @ G_k + R) @ G_k.T @ P @ F_k\n",
    "    \n",
    "    xd = np.zeros((6,N))\n",
    "    u_s = np.zeros((3,N))\n",
    "    \n",
    "    for k in range(N):\n",
    "        if k == 0:\n",
    "            x = x0\n",
    "            xd[:, k] = x\n",
    "            u_s[:,k] = -K_k @ x\n",
    "        else:\n",
    "            xkp1 = (F_k - G_k @ K_k) @ x\n",
    "            u = -K_k @ x\n",
    "            xd[:, k] = xkp1\n",
    "            u_s[:, k] = u\n",
    "            x = xkp1\n",
    "    return xd, u_s\n",
    "            "
   ]
  },
  {
   "cell_type": "code",
   "execution_count": 831,
   "id": "4f811824",
   "metadata": {},
   "outputs": [],
   "source": [
    "# Case 1\n",
    "Q = np.eye(6)\n",
    "R = np.eye(3)\n",
    "P_dare_case1 = sp.linalg.solve_discrete_are(F(nt,dt), G(nt,dt), Q, R)\n",
    "sol_dare_case1, u_dare_case1 = solve_recursive_cl_constant_P(N, dt, nt, F, G, P_dare_case1, Q, R, x0)\n",
    "\n",
    "# Case 2\n",
    "Q = np.eye(6)\n",
    "R = 100*np.eye(3)\n",
    "P_dare_case2 = sp.linalg.solve_discrete_are(F(nt,dt), G(nt,dt), Q, R)\n",
    "sol_dare_case2, u_dare_case2 = solve_recursive_cl_constant_P(N, dt, nt, F, G, P_dare_case2, Q, R, x0)\n",
    "\n",
    "# Case 3\n",
    "Q = np.eye(6)\n",
    "R = 10000*np.eye(3)\n",
    "P_dare_case3 = sp.linalg.solve_discrete_are(F(nt,dt), G(nt,dt), Q, R)\n",
    "sol_dare_case3, u_dare_case3 = solve_recursive_cl_constant_P(N, dt, nt, F, G, P_dare_case3, Q, R, x0)"
   ]
  },
  {
   "cell_type": "code",
   "execution_count": null,
   "id": "5ac3a262",
   "metadata": {},
   "outputs": [],
   "source": []
  }
 ],
 "metadata": {
  "kernelspec": {
   "display_name": "Python 3 (ipykernel)",
   "language": "python",
   "name": "python3"
  },
  "language_info": {
   "codemirror_mode": {
    "name": "ipython",
    "version": 3
   },
   "file_extension": ".py",
   "mimetype": "text/x-python",
   "name": "python",
   "nbconvert_exporter": "python",
   "pygments_lexer": "ipython3",
   "version": "3.10.4"
  }
 },
 "nbformat": 4,
 "nbformat_minor": 5
}
