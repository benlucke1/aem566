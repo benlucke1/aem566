{
 "cells": [
  {
   "cell_type": "markdown",
   "id": "487cb61f",
   "metadata": {},
   "source": [
    "# Project 1: Linear Quadratic Regulator (LQR) Design\n",
    ">**Date Created**: 26 January 2024<br>\n",
    ">**Course**: AEM566 - Optimal Estimation<br>\n",
    ">**Author**: Benjamin Lucke<br>"
   ]
  },
  {
   "cell_type": "code",
   "execution_count": 2,
   "id": "8bafa594",
   "metadata": {},
   "outputs": [],
   "source": [
    "import control as ct\n",
    "import numpy as np\n",
    "import pandas as pd\n",
    "import scipy as sp\n",
    "import sympy as smp\n",
    "\n",
    "\n",
    "from matplotlib import pyplot as plt"
   ]
  },
  {
   "cell_type": "markdown",
   "id": "4f168041",
   "metadata": {},
   "source": [
    "# Problem Description\n",
    "___"
   ]
  },
  {
   "cell_type": "markdown",
   "id": "cdf57c87",
   "metadata": {},
   "source": [
    "### Dynamical System"
   ]
  },
  {
   "cell_type": "markdown",
   "id": "c8afe332",
   "metadata": {},
   "source": [
    "In many instances for spacecraft dynamics and control, one is interested in modeling the dynamics\n",
    "between multiple spacecraft, e.g., a **rendezvous and proximity operation (RPO)**. To that end,\n",
    "consider the following simplified model of two satellites operating in proximity, i.e. a simplified\n",
    "**three-body problem**, involving a **chaser spacecraft** and a **target spacecraft** (subscript $t$) on\n",
    "an elliptical orbit. One can represent this relative motion in the **Hill frame (HF)** for the target\n",
    "spacecraft as shown in the following figure."
   ]
  },
  {
   "attachments": {
    "hill_frame.PNG": {
     "image/png": "[encoded data removed]"
    }
   },
   "cell_type": "markdown",
   "id": "957576e1",
   "metadata": {},
   "source": [
    "![hill_frame.PNG](attachment:hill_frame.PNG)"
   ]
  },
  {
   "cell_type": "markdown",
   "id": "2d0be7ac",
   "metadata": {},
   "source": [
    "Thus, one can represent the target position relative to the celestial body in the target’s HF axes\n",
    "as $$\\vec{r}_t = \\begin{bmatrix} r_t \\\\ 0 \\\\ 0 \\end{bmatrix}$$"
   ]
  },
  {
   "cell_type": "markdown",
   "id": "62a077c8",
   "metadata": {},
   "source": [
    "and the relative position of the chaser in the target's HF axes as $$\\vec{\\rho} = \\begin{bmatrix} x \\\\ y \\\\ z\\end{bmatrix}$$"
   ]
  },
  {
   "cell_type": "markdown",
   "id": "a641d1f9",
   "metadata": {},
   "source": [
    "Then, noting $$\\vec{r}_c = \\vec{r}_t + \\vec{\\rho}$$ "
   ]
  },
  {
   "cell_type": "markdown",
   "id": "9db19699",
   "metadata": {},
   "source": [
    "## Problem 1\n",
    "\n",
    "Compute the eigenvalues of the state matrix for the continuous LTI system and comment on the stability of the system.\n",
    "#### Solution"
   ]
  },
  {
   "cell_type": "markdown",
   "id": "bacd93fc",
   "metadata": {},
   "source": [
    "Define constants"
   ]
  },
  {
   "cell_type": "code",
   "execution_count": 3,
   "id": "5230331d",
   "metadata": {},
   "outputs": [],
   "source": [
    "mu = 3.986004418 * 10**14  ## m^3s^-2\n",
    "rt = 6783000  # meters\n",
    "x0 = np.array([1000, 1000, 1000, 0, 0, 0])  # m\n",
    "nt = np.sqrt(mu / (rt**3))\n",
    "\n",
    "nt_symbolic = smp.Symbol(\"n_t\")"
   ]
  },
  {
   "cell_type": "code",
   "execution_count": 4,
   "id": "6a780483",
   "metadata": {},
   "outputs": [
    {
     "name": "stdout",
     "output_type": "stream",
     "text": [
      "dict_keys([0, -0.0172046505340853, 0.0172046505340853, -0.01*I, 0.01*I])\n"
     ]
    }
   ],
   "source": [
    "A_ct_sympy = smp.Matrix(\n",
    "    [\n",
    "        [0, 0, 0, 1, 0, 0],\n",
    "        [0, 0, 0, 0, 1, 0],\n",
    "        [0, 0, 0, 0, 0, 1],\n",
    "        [3 * nt_symbolic**2, 0, 0, 0, 2 * nt_symbolic, 0],\n",
    "        [0, 0, 0, -2 * nt_symbolic**2, 0, 0],\n",
    "        [0, 0, -(nt_symbolic**2), 0, 0, 0],\n",
    "    ]\n",
    ")\n",
    "A_ct_numpy = np.array(\n",
    "    [\n",
    "        [0, 0, 0, 1, 0, 0],\n",
    "        [0, 0, 0, 0, 1, 0],\n",
    "        [0, 0, 0, 0, 0, 1],\n",
    "        [3 * nt**2, 0, 0, 0, 2 * nt, 0],\n",
    "        [0, 0, 0, -2 * nt**2, 0, 0],\n",
    "        [0, 0, -(nt**2), 0, 0, 0],\n",
    "    ]\n",
    ")\n",
    "eigs_A_symbolic = A_ct_sympy.subs(nt_symbolic, 0.01).eigenvals().keys()\n",
    "vals, vecs = np.linalg.eig(A_ct_numpy)\n",
    "print(eigs_A_symbolic)"
   ]
  },
  {
   "cell_type": "markdown",
   "id": "b5efe63e",
   "metadata": {},
   "source": [
    "$r_t$ will never be less than zero, and $\\mu$ is a constant greter than zero, so $n_t$ will always be greater than zero. For $n_t \\geq 0$, the eigenvalues of the dynamics matrix are purely imaginary and thus the system is **marginally stable**, that is, the system will have bounded oscillations with no control input. "
   ]
  },
  {
   "cell_type": "markdown",
   "id": "16bfd732",
   "metadata": {},
   "source": [
    "### Problem 2\n",
    "Compute the controllability matrix for the continuous-time LTI system."
   ]
  },
  {
   "cell_type": "code",
   "execution_count": 5,
   "id": "c9571bb2",
   "metadata": {},
   "outputs": [
    {
     "name": "stdout",
     "output_type": "stream",
     "text": [
      "6\n"
     ]
    }
   ],
   "source": [
    "B_ct_sympy = smp.Matrix(\n",
    "    [[0, 0, 0], [0, 0, 0], [0, 0, 0], [1, 0, 0], [0, 1, 0], [0, 0, 1]]\n",
    ")\n",
    "\n",
    "B_ct_numpy = np.array(\n",
    "    [[0, 0, 0], [0, 0, 0], [0, 0, 0], [1, 0, 0], [0, 1, 0], [0, 0, 1]]\n",
    ")\n",
    "\n",
    "ctrb = ct.ctrb(A_ct_numpy, B_ct_numpy)\n",
    "print(np.linalg.matrix_rank(ctrb))"
   ]
  },
  {
   "cell_type": "markdown",
   "id": "81e3b3a4",
   "metadata": {},
   "source": [
    "System is controllable since the controllability matrix is full rank."
   ]
  },
  {
   "cell_type": "markdown",
   "id": "c2db3e10",
   "metadata": {},
   "source": [
    "### Problem 3"
   ]
  },
  {
   "cell_type": "markdown",
   "id": "ca6c5da1",
   "metadata": {},
   "source": [
    "Design a finite-horizon LQR for the continuous time system with $t_f = 16200 s$."
   ]
  },
  {
   "cell_type": "code",
   "execution_count": 421,
   "id": "82f7501f",
   "metadata": {},
   "outputs": [],
   "source": [
    "t_eval = np.linspace(16200, 0, 25000)"
   ]
  },
  {
   "cell_type": "code",
   "execution_count": 480,
   "id": "fcf1d91b",
   "metadata": {},
   "outputs": [],
   "source": [
    "def dPdt(t, P, A, B, Q, R):\n",
    "    P = P.reshape((6, 6))\n",
    "    dpdt = (\n",
    "        -np.dot(P, A)\n",
    "        - np.dot(A.T, P)\n",
    "        + np.dot(P, B).dot(np.linalg.inv(R)).dot(B.T).dot(P)\n",
    "        - Q\n",
    "    ).flatten()\n",
    "    return dpdt\n",
    "\n",
    "\n",
    "def dxdt(t, x, A, B, R, P, ts):\n",
    "    interp_P = sp.interpolate.interp1d(ts, P.reshape(36, -1))\n",
    "    P_t = interp_P(t).reshape((6, 6))\n",
    "    K_t = np.dot(np.linalg.inv(R), np.dot(B.T, P_t))\n",
    "    u = -np.dot(K_t, x)\n",
    "    xdot = np.dot(A - np.dot(B, K_t), x)\n",
    "    return xdot\n",
    "\n",
    "\n",
    "def calc_u(Ps, x, R, B, t_solve):\n",
    "    u_s = np.zeros((3, t_solve.shape[0]))\n",
    "    interp_P = sp.interpolate.interp1d(t_solve, Ps.reshape(36, -1))\n",
    "    for k, t in enumerate(t_solve):\n",
    "        P_t = interp_P(t).reshape((6, 6))\n",
    "        K_t = np.dot(np.linalg.inv(R), np.dot(B.T, P_t))\n",
    "        u = -np.dot(K_t, x[:, k])\n",
    "        u_s[:, k] = u\n",
    "    return u_s"
   ]
  },
  {
   "cell_type": "code",
   "execution_count": null,
   "id": "1b903dad",
   "metadata": {},
   "outputs": [],
   "source": [
    "sols_P_case1 = sp.integrate.solve_ivp(\n",
    "    dPdt,\n",
    "    t_span=[16200, 0],\n",
    "    t_eval=t_eval,\n",
    "    y0=np.zeros((6, 6)).flatten(),\n",
    "    args=(A_ct_numpy, B_ct_numpy, np.eye(6), np.eye(3)),\n",
    ")\n",
    "t_solve_case1 = np.flip(sols_P_case1.t)\n",
    "P_case1 = np.flip(sols_P_case1.y.reshape((6, 6, -1)))\n",
    "sols_cl_case1 = sp.integrate.solve_ivp(\n",
    "    dxdt,\n",
    "    t_span=[0, 16200],\n",
    "    t_eval=t_solve_case1,\n",
    "    y0=x0,\n",
    "    args=(A_ct_numpy, B_ct_numpy, np.eye(3), P_case1, t_solve_case1),\n",
    ")"
   ]
  },
  {
   "cell_type": "code",
   "execution_count": 426,
   "id": "d594ec2c",
   "metadata": {},
   "outputs": [],
   "source": [
    "sols_P_case2 = sp.integrate.solve_ivp(\n",
    "    dPdt,\n",
    "    t_span=[16200, 0],\n",
    "    t_eval=t_eval,\n",
    "    y0=np.zeros((6, 6)).flatten(),\n",
    "    args=(A_ct_numpy, B_ct_numpy, np.eye(6), 100 * np.eye(3)),\n",
    ")\n",
    "t_solve_case2 = np.flip(sols_P_case2.t)\n",
    "P_case2 = np.flip(sols_P_case2.y.reshape((6, 6, -1)))\n",
    "sols_cl_case2 = sp.integrate.solve_ivp(\n",
    "    dxdt,\n",
    "    t_span=[0, 16200],\n",
    "    t_eval=t_solve_case2,\n",
    "    y0=x0,\n",
    "    args=(A_ct_numpy, B_ct_numpy, 100 * np.eye(3), P_case2, t_solve_case2),\n",
    ")"
   ]
  },
  {
   "cell_type": "code",
   "execution_count": 427,
   "id": "68ffc5af",
   "metadata": {},
   "outputs": [],
   "source": [
    "sols_P_case3 = sp.integrate.solve_ivp(\n",
    "    dPdt,\n",
    "    t_span=[16200, 0],\n",
    "    t_eval=t_eval,\n",
    "    y0=np.zeros((6, 6)).flatten(),\n",
    "    args=(A_ct_numpy, B_ct_numpy, np.eye(6), 10000 * np.eye(3)),\n",
    ")\n",
    "t_solve_case3 = np.flip(sols_P_case3.t)\n",
    "P_case3 = np.flip(sols_P_case3.y.reshape((6, 6, -1)))\n",
    "sols_cl_case3 = sp.integrate.solve_ivp(\n",
    "    dxdt,\n",
    "    t_span=[0, 16200],\n",
    "    t_eval=t_solve_case3,\n",
    "    y0=x0,\n",
    "    args=(A_ct_numpy, B_ct_numpy, 10000 * np.eye(3), P_case3, t_solve_case3),\n",
    ")"
   ]
  },
  {
   "cell_type": "code",
   "execution_count": 510,
   "id": "f25a540b",
   "metadata": {},
   "outputs": [
    {
     "data": {
      "text/plain": [
       "[<matplotlib.lines.Line2D at 0x210691ef1f0>]"
      ]
     },
     "execution_count": 510,
     "metadata": {},
     "output_type": "execute_result"
    },
    {
     "data": {
      "image/png": "[encoded data removed]",
      "text/plain": [
       "<Figure size 640x480 with 1 Axes>"
      ]
     },
     "metadata": {},
     "output_type": "display_data"
    }
   ],
   "source": [
    "plt.plot(sols_cl_case2.y[2, :])"
   ]
  },
  {
   "cell_type": "code",
   "execution_count": 514,
   "id": "c1c18d7e",
   "metadata": {
    "scrolled": true
   },
   "outputs": [
    {
     "data": {
      "text/plain": [
       "(0.0, 1000.0)"
      ]
     },
     "execution_count": 514,
     "metadata": {},
     "output_type": "execute_result"
    },
    {
     "data": {
      "image/png": "[encoded data removed]",
      "text/plain": [
       "<Figure size 640x480 with 1 Axes>"
      ]
     },
     "metadata": {},
     "output_type": "display_data"
    }
   ],
   "source": [
    "a = calc_u(P_case2, sols_cl_case2.y, np.eye(3), B_ct_numpy, t_solve_case2)\n",
    "\n",
    "fig, ax = plt.subplots()\n",
    "ax.plot(a[0, :])\n",
    "ax.plot(a[1, :])\n",
    "ax.plot(a[2, :])\n",
    "ax.set_xlim((0, 1000))"
   ]
  },
  {
   "cell_type": "code",
   "execution_count": 469,
   "id": "f7a40a6f",
   "metadata": {},
   "outputs": [
    {
     "data": {
      "text/plain": [
       "25000"
      ]
     },
     "execution_count": 469,
     "metadata": {},
     "output_type": "execute_result"
    }
   ],
   "source": [
    "t_solve_case3.shape[0]"
   ]
  },
  {
   "cell_type": "code",
   "execution_count": 470,
   "id": "9151e79a",
   "metadata": {},
   "outputs": [
    {
     "data": {
      "text/plain": [
       "(6, 6, 25000)"
      ]
     },
     "execution_count": 470,
     "metadata": {},
     "output_type": "execute_result"
    }
   ],
   "source": [
    "P_case1.shape"
   ]
  }
 ],
 "metadata": {
  "kernelspec": {
   "display_name": "Python 3 (ipykernel)",
   "language": "python",
   "name": "python3"
  },
  "language_info": {
   "codemirror_mode": {
    "name": "ipython",
    "version": 3
   },
   "file_extension": ".py",
   "mimetype": "text/x-python",
   "name": "python",
   "nbconvert_exporter": "python",
   "pygments_lexer": "ipython3",
   "version": "3.10.4"
  }
 },
 "nbformat": 4,
 "nbformat_minor": 5
}
