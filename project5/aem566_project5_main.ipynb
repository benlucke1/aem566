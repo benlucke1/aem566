{
 "cells": [
  {
   "cell_type": "code",
   "execution_count": 31,
   "id": "8ea81904-6bca-45f8-b186-e6d80a5e74ca",
   "metadata": {},
   "outputs": [],
   "source": [
    "import matplotlib.pyplot as plt\n",
    "import numpy as np\n",
    "import pandas as pd\n",
    "import sympy as sp\n",
    "from scipy.integrate import odeint\n",
    "import os"
   ]
  },
  {
   "cell_type": "code",
   "execution_count": 32,
   "id": "ce9b7165-502f-4636-afbe-3b638880db42",
   "metadata": {},
   "outputs": [
    {
     "data": {
      "text/plain": [
       "'C:\\\\Users\\\\ben.lucke\\\\Desktop\\\\projects\\\\sandbox'"
      ]
     },
     "execution_count": 32,
     "metadata": {},
     "output_type": "execute_result"
    }
   ],
   "source": [
    "os.getcwd()"
   ]
  },
  {
   "cell_type": "code",
   "execution_count": 24,
   "id": "175934bc-6cd7-48f4-9496-7f1dfa7f8780",
   "metadata": {},
   "outputs": [],
   "source": [
    "data = 'altimeter_data.csv'\n",
    "df = pd.read_csv(data,header=None, names=['t','yk','hk','sk','cbk'])"
   ]
  },
  {
   "cell_type": "code",
   "execution_count": 25,
   "id": "881a77ad-6b8b-4566-bc3b-80833fd28eba",
   "metadata": {},
   "outputs": [],
   "source": [
    "h, s, d, delt, cb, rn, hr, hn, re, gn = sp.symbols(r'h s d \\Delta{t} C_b \\rho_0 h_\\rho h_0 R_E g_0')"
   ]
  },
  {
   "cell_type": "code",
   "execution_count": 26,
   "id": "e030ea11-69a3-43eb-a80b-6dbd357286be",
   "metadata": {},
   "outputs": [],
   "source": [
    "A_discrete_symbolic = sp.Matrix([[h + delt*s],\n",
    "                                [s + (delt*(((rn*s**2)/(2*cb)*sp.exp(-h/hr)) - (gn*((re/(re+h))**2))))],\n",
    "                                [cb]])\n",
    "constants_mapper = dict(zip([delt,rn,gn,hr,re],[.5, .0765, 32.2, 30000, 20902260]))\n",
    "A_jacobian_symbolic = A_discrete_symbolic.jacobian([h, s, cb]).subs(constants_mapper) # Sub in constants"
   ]
  },
  {
   "cell_type": "code",
   "execution_count": 27,
   "id": "c97acf7d-4921-4b84-af59-9799ab4582b6",
   "metadata": {},
   "outputs": [],
   "source": [
    "P0 = np.diag([100**2, 10**2, 1])\n",
    "Q = np.diag([10**2, 10**2, .05**2])\n",
    "R = 100**2"
   ]
  },
  {
   "cell_type": "markdown",
   "id": "36ee1207-3783-4d87-8bd9-f8456c47a007",
   "metadata": {},
   "source": [
    "### Dynamics Model"
   ]
  },
  {
   "cell_type": "code",
   "execution_count": 28,
   "id": "bc4a67dd-845f-4ecf-b5ec-4af241a4ea46",
   "metadata": {},
   "outputs": [],
   "source": [
    "def propogate(x):\n",
    "    '''Function to compute dynamics of state variables'''\n",
    "    dt = 0.5\n",
    "    rho_0 = .0765\n",
    "    g0 = 32.2\n",
    "    h_rho = 30000\n",
    "    Re = 20902260\n",
    "    h = x[0]\n",
    "    s = x[1]\n",
    "    cb = x[2]\n",
    "\n",
    "    hkp1 = h + dt*s\n",
    "    skp1 = s+ dt*(((rho_0*s**2)/(2*cb)*np.exp(-h/h_rho)) - (g0*((Re/(Re+h))**2)))\n",
    "    cbkp1 = cb\n",
    "    return hkp1, skp1, cbkp1"
   ]
  },
  {
   "cell_type": "code",
   "execution_count": 29,
   "id": "20ade0b4-d88f-42a2-a673-870d587ece3b",
   "metadata": {},
   "outputs": [],
   "source": [
    "def calcF(A_jac, x):\n",
    "    '''Function that computes analytical jacobian of symbolic jacobian of A'''\n",
    "    x = x.flatten()\n",
    "    h_in = x[0]\n",
    "    s_in = x[1]\n",
    "    cb_in = x[2]\n",
    "    F_out = A_jac.subs({h:h_in, s:s_in, cb:cb_in})\n",
    "    return np.array(F_out).astype(np.float64)"
   ]
  },
  {
   "cell_type": "markdown",
   "id": "21fcbb64-204f-4b03-b945-831a6db7c54b",
   "metadata": {},
   "source": [
    "### Measurement Model"
   ]
  },
  {
   "cell_type": "code",
   "execution_count": 109,
   "id": "a258741b-3924-403a-a4b3-ba6aa0935200",
   "metadata": {},
   "outputs": [],
   "source": [
    "H_discrete_symbolic = sp.Matrix([sp.sqrt(d**2 + h**2)])\n",
    "H_jacobian_symbolic = H_discrete_symbolic.jacobian([h,s,cb])"
   ]
  },
  {
   "cell_type": "code",
   "execution_count": 169,
   "id": "fe82d493-bd25-4cca-b8e0-a92291562b1b",
   "metadata": {},
   "outputs": [],
   "source": [
    "def get_measurement(x):\n",
    "    h_in = x[0]\n",
    "    s_in = x[1]\n",
    "    cb_in = x[2]\n",
    "    d = 100000\n",
    "    out = np.sqrt(d**2 + h_in**2)\n",
    "    return out"
   ]
  },
  {
   "cell_type": "markdown",
   "id": "a8acb1e7-68fa-4957-a5e0-fa4952e5bf9b",
   "metadata": {},
   "source": [
    "### Propogate Dynamics"
   ]
  },
  {
   "cell_type": "code",
   "execution_count": 176,
   "id": "8469b703-3f7d-4210-b8d8-c749a875950e",
   "metadata": {},
   "outputs": [],
   "source": [
    "x0 = np.array([400e3, -2000, 20])"
   ]
  },
  {
   "cell_type": "code",
   "execution_count": 177,
   "id": "67ebd614-e12d-4c39-9da3-c026bd115380",
   "metadata": {},
   "outputs": [],
   "source": [
    "n = 600\n",
    "res = np.zeros((n, 3))\n",
    "mmts = np.zeros((n,1))\n",
    "for k in range(n):\n",
    "    if k == 0:\n",
    "        x = x0\n",
    "        P = P0\n",
    "        meas = get_measurement(x)\n",
    "        res[k] = x\n",
    "        mmts[k] = meas\n",
    "        continue\n",
    "    hk, sk, cbk = propogate(x)\n",
    "    x = np.array([hk, sk, cbk])\n",
    "    res[k] = x\n",
    "    mmts[k] = get_measurement(x)"
   ]
  }
 ],
 "metadata": {
  "kernelspec": {
   "display_name": "Python 3 (ipykernel)",
   "language": "python",
   "name": "python3"
  },
  "language_info": {
   "codemirror_mode": {
    "name": "ipython",
    "version": 3
   },
   "file_extension": ".py",
   "mimetype": "text/x-python",
   "name": "python",
   "nbconvert_exporter": "python",
   "pygments_lexer": "ipython3",
   "version": "3.12.2"
  }
 },
 "nbformat": 4,
 "nbformat_minor": 5
}
