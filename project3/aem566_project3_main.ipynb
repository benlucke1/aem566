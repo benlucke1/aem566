{
 "cells": [
  {
   "cell_type": "markdown",
   "id": "24b635fb",
   "metadata": {},
   "source": [
    "# Project 3: Battery Equivalent Circuit Model Design\n",
    ">**Date Created**: 19 February 2024<br>\n",
    ">**Course**: AEM566 - Optimal Estimation<br>\n",
    ">**Author**: Benjamin Lucke<br>"
   ]
  },
  {
   "cell_type": "code",
   "execution_count": 396,
   "id": "7b915a2a",
   "metadata": {},
   "outputs": [],
   "source": [
    "import numpy as np\n",
    "import scipy as sp\n",
    "import pandas as pd\n",
    "from matplotlib import pyplot as plt\n",
    "from scipy.integrate import trapezoid, simpson"
   ]
  },
  {
   "cell_type": "markdown",
   "id": "8534ccc6",
   "metadata": {},
   "source": [
    "### 1. Load the battery data for the pulse discharge tests in the accompanying CSV file"
   ]
  },
  {
   "cell_type": "code",
   "execution_count": 567,
   "id": "5ac3e782",
   "metadata": {},
   "outputs": [],
   "source": [
    "data = pd.read_csv('data/pulse_discharge_test_data.csv')\n",
    "# rename columns to make easier to reference and convert times to datetime for convenience\n",
    "columnMapper = dict(zip(data.columns.values,['t', 'v', 'i'],)) \n",
    "data = data.rename(columns=columnMapper)\n",
    "data['t'] = pd.to_datetime(data['t'],format=\"%H:%M:%S\")"
   ]
  },
  {
   "cell_type": "markdown",
   "id": "400f1c34",
   "metadata": {},
   "source": [
    "### 2. Numerically integrate the current to obtain the SOC for the entire data set"
   ]
  },
  {
   "cell_type": "code",
   "execution_count": 574,
   "id": "680d5a16",
   "metadata": {},
   "outputs": [],
   "source": [
    "soc_full = simpson(data['i'], dx = 10)"
   ]
  },
  {
   "cell_type": "markdown",
   "id": "89cf5a6b",
   "metadata": {},
   "source": [
    "### 3. Partition the data into each rest period using the current measurement as the trigger"
   ]
  },
  {
   "cell_type": "code",
   "execution_count": 569,
   "id": "e20d8d98",
   "metadata": {},
   "outputs": [],
   "source": [
    "data['i_diff'] = data.loc[:,'i'].diff()\n",
    "delta_indices = data[(data['i_diff']) > .1].index.tolist() # Get indices based on differnetial in current\n",
    "pairs = list()\n",
    "\n",
    "# Create grouped pairs of indices where rest period starts and ends\n",
    "for k, index in enumerate(delta_indices):\n",
    "    if k == len(delta_indices)-1:\n",
    "        pair = index + 118, data.index[-1]\n",
    "    else:\n",
    "        pair = index + 118, delta_indices[k+1]\n",
    "    pairs.append(pair)\n",
    "pairs = np.array(pairs)"
   ]
  },
  {
   "cell_type": "code",
   "execution_count": 570,
   "id": "1c1c5ac8",
   "metadata": {},
   "outputs": [],
   "source": [
    "def estimate_r0(rest_start, rest_end):\n",
    "    v_ts = data.iloc[rest_start - 1,1] # get voltage at time step before rest period starts \n",
    "    v_tr = data.iloc[rest_start, 1] # get voltage at start of rest period\n",
    "    rhs = v_tr - v_ts # Compute difference in voltages\n",
    "    r0 = rhs/data.iloc[rest_start,2] # divide by current to get estimate of R0\n",
    "    return r0"
   ]
  },
  {
   "cell_type": "code",
   "execution_count": 575,
   "id": "4fa34f04",
   "metadata": {},
   "outputs": [],
   "source": [
    "def estimate_r1(end):\n",
    "    ocv = data.iloc[end, 1]\n",
    "    print(ocv)"
   ]
  },
  {
   "cell_type": "code",
   "execution_count": null,
   "id": "e36bc91d",
   "metadata": {},
   "outputs": [],
   "source": []
  }
 ],
 "metadata": {
  "kernelspec": {
   "display_name": "Python 3 (ipykernel)",
   "language": "python",
   "name": "python3"
  },
  "language_info": {
   "codemirror_mode": {
    "name": "ipython",
    "version": 3
   },
   "file_extension": ".py",
   "mimetype": "text/x-python",
   "name": "python",
   "nbconvert_exporter": "python",
   "pygments_lexer": "ipython3",
   "version": "3.10.4"
  }
 },
 "nbformat": 4,
 "nbformat_minor": 5
}
